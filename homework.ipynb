{
 "cells": [
  {
   "cell_type": "markdown",
   "metadata": {},
   "source": [
    "# Homework  \n",
    "Data documentation: https://tidyr.tidyverse.org/reference/who.html\n",
    "\n",
    "__Directions:__ Answer the three questions below. Create as many code/markdown blocks necessary to answer the questions. "
   ]
  },
  {
   "cell_type": "code",
   "execution_count": 1,
   "metadata": {},
   "outputs": [
    {
     "name": "stdout",
     "output_type": "stream",
     "text": [
      "Requirement already satisfied: gdown in c:\\users\\administrator\\desktop\\anaconda3\\lib\\site-packages (4.6.0)\n",
      "Requirement already satisfied: filelock in c:\\users\\administrator\\desktop\\anaconda3\\lib\\site-packages (from gdown) (3.6.0)\n",
      "Requirement already satisfied: six in c:\\users\\administrator\\desktop\\anaconda3\\lib\\site-packages (from gdown) (1.16.0)\n",
      "Requirement already satisfied: beautifulsoup4 in c:\\users\\administrator\\desktop\\anaconda3\\lib\\site-packages (from gdown) (4.11.1)\n",
      "Requirement already satisfied: requests[socks] in c:\\users\\administrator\\desktop\\anaconda3\\lib\\site-packages (from gdown) (2.25.1)\n",
      "Requirement already satisfied: tqdm in c:\\users\\administrator\\desktop\\anaconda3\\lib\\site-packages (from gdown) (4.49.0)\n",
      "Requirement already satisfied: soupsieve>1.2 in c:\\users\\administrator\\desktop\\anaconda3\\lib\\site-packages (from beautifulsoup4->gdown) (2.3.1)\n",
      "Requirement already satisfied: certifi>=2017.4.17 in c:\\users\\administrator\\desktop\\anaconda3\\lib\\site-packages (from requests[socks]->gdown) (2022.9.14)\n",
      "Requirement already satisfied: urllib3<1.27,>=1.21.1 in c:\\users\\administrator\\desktop\\anaconda3\\lib\\site-packages (from requests[socks]->gdown) (1.26.11)\n",
      "Requirement already satisfied: idna<3,>=2.5 in c:\\users\\administrator\\desktop\\anaconda3\\lib\\site-packages (from requests[socks]->gdown) (2.10)\n",
      "Requirement already satisfied: chardet<5,>=3.0.2 in c:\\users\\administrator\\desktop\\anaconda3\\lib\\site-packages (from requests[socks]->gdown) (4.0.0)\n",
      "Requirement already satisfied: PySocks!=1.5.7,>=1.5.6 in c:\\users\\administrator\\desktop\\anaconda3\\lib\\site-packages (from requests[socks]->gdown) (1.7.1)\n"
     ]
    }
   ],
   "source": [
    "!pip install gdown"
   ]
  },
  {
   "cell_type": "code",
   "execution_count": 29,
   "metadata": {},
   "outputs": [],
   "source": [
    "import pandas as pd\n",
    "import numpy as np\n",
    "import matplotlib.pyplot as plt\n",
    "%matplotlib inline\n",
    "import seaborn as sns\n",
    "import plotly.graph_objs as go\n",
    "\n",
    "df = pd.read_csv('https://raw.githubusercontent.com/msaricaumbc/DS_data/master/ds602/who.csv')"
   ]
  },
  {
   "cell_type": "code",
   "execution_count": 30,
   "metadata": {},
   "outputs": [
    {
     "data": {
      "text/html": [
       "<div>\n",
       "<style scoped>\n",
       "    .dataframe tbody tr th:only-of-type {\n",
       "        vertical-align: middle;\n",
       "    }\n",
       "\n",
       "    .dataframe tbody tr th {\n",
       "        vertical-align: top;\n",
       "    }\n",
       "\n",
       "    .dataframe thead th {\n",
       "        text-align: right;\n",
       "    }\n",
       "</style>\n",
       "<table border=\"1\" class=\"dataframe\">\n",
       "  <thead>\n",
       "    <tr style=\"text-align: right;\">\n",
       "      <th></th>\n",
       "      <th>country</th>\n",
       "      <th>iso2</th>\n",
       "      <th>iso3</th>\n",
       "      <th>year</th>\n",
       "      <th>new_sp_m014</th>\n",
       "      <th>new_sp_m1524</th>\n",
       "      <th>new_sp_m2534</th>\n",
       "      <th>new_sp_m3544</th>\n",
       "      <th>new_sp_m4554</th>\n",
       "      <th>new_sp_m5564</th>\n",
       "      <th>...</th>\n",
       "      <th>newrel_m4554</th>\n",
       "      <th>newrel_m5564</th>\n",
       "      <th>newrel_m65</th>\n",
       "      <th>newrel_f014</th>\n",
       "      <th>newrel_f1524</th>\n",
       "      <th>newrel_f2534</th>\n",
       "      <th>newrel_f3544</th>\n",
       "      <th>newrel_f4554</th>\n",
       "      <th>newrel_f5564</th>\n",
       "      <th>newrel_f65</th>\n",
       "    </tr>\n",
       "  </thead>\n",
       "  <tbody>\n",
       "    <tr>\n",
       "      <th>0</th>\n",
       "      <td>Afghanistan</td>\n",
       "      <td>AF</td>\n",
       "      <td>AFG</td>\n",
       "      <td>1980</td>\n",
       "      <td>NaN</td>\n",
       "      <td>NaN</td>\n",
       "      <td>NaN</td>\n",
       "      <td>NaN</td>\n",
       "      <td>NaN</td>\n",
       "      <td>NaN</td>\n",
       "      <td>...</td>\n",
       "      <td>NaN</td>\n",
       "      <td>NaN</td>\n",
       "      <td>NaN</td>\n",
       "      <td>NaN</td>\n",
       "      <td>NaN</td>\n",
       "      <td>NaN</td>\n",
       "      <td>NaN</td>\n",
       "      <td>NaN</td>\n",
       "      <td>NaN</td>\n",
       "      <td>NaN</td>\n",
       "    </tr>\n",
       "    <tr>\n",
       "      <th>1</th>\n",
       "      <td>Afghanistan</td>\n",
       "      <td>AF</td>\n",
       "      <td>AFG</td>\n",
       "      <td>1981</td>\n",
       "      <td>NaN</td>\n",
       "      <td>NaN</td>\n",
       "      <td>NaN</td>\n",
       "      <td>NaN</td>\n",
       "      <td>NaN</td>\n",
       "      <td>NaN</td>\n",
       "      <td>...</td>\n",
       "      <td>NaN</td>\n",
       "      <td>NaN</td>\n",
       "      <td>NaN</td>\n",
       "      <td>NaN</td>\n",
       "      <td>NaN</td>\n",
       "      <td>NaN</td>\n",
       "      <td>NaN</td>\n",
       "      <td>NaN</td>\n",
       "      <td>NaN</td>\n",
       "      <td>NaN</td>\n",
       "    </tr>\n",
       "    <tr>\n",
       "      <th>2</th>\n",
       "      <td>Afghanistan</td>\n",
       "      <td>AF</td>\n",
       "      <td>AFG</td>\n",
       "      <td>1982</td>\n",
       "      <td>NaN</td>\n",
       "      <td>NaN</td>\n",
       "      <td>NaN</td>\n",
       "      <td>NaN</td>\n",
       "      <td>NaN</td>\n",
       "      <td>NaN</td>\n",
       "      <td>...</td>\n",
       "      <td>NaN</td>\n",
       "      <td>NaN</td>\n",
       "      <td>NaN</td>\n",
       "      <td>NaN</td>\n",
       "      <td>NaN</td>\n",
       "      <td>NaN</td>\n",
       "      <td>NaN</td>\n",
       "      <td>NaN</td>\n",
       "      <td>NaN</td>\n",
       "      <td>NaN</td>\n",
       "    </tr>\n",
       "    <tr>\n",
       "      <th>3</th>\n",
       "      <td>Afghanistan</td>\n",
       "      <td>AF</td>\n",
       "      <td>AFG</td>\n",
       "      <td>1983</td>\n",
       "      <td>NaN</td>\n",
       "      <td>NaN</td>\n",
       "      <td>NaN</td>\n",
       "      <td>NaN</td>\n",
       "      <td>NaN</td>\n",
       "      <td>NaN</td>\n",
       "      <td>...</td>\n",
       "      <td>NaN</td>\n",
       "      <td>NaN</td>\n",
       "      <td>NaN</td>\n",
       "      <td>NaN</td>\n",
       "      <td>NaN</td>\n",
       "      <td>NaN</td>\n",
       "      <td>NaN</td>\n",
       "      <td>NaN</td>\n",
       "      <td>NaN</td>\n",
       "      <td>NaN</td>\n",
       "    </tr>\n",
       "    <tr>\n",
       "      <th>4</th>\n",
       "      <td>Afghanistan</td>\n",
       "      <td>AF</td>\n",
       "      <td>AFG</td>\n",
       "      <td>1984</td>\n",
       "      <td>NaN</td>\n",
       "      <td>NaN</td>\n",
       "      <td>NaN</td>\n",
       "      <td>NaN</td>\n",
       "      <td>NaN</td>\n",
       "      <td>NaN</td>\n",
       "      <td>...</td>\n",
       "      <td>NaN</td>\n",
       "      <td>NaN</td>\n",
       "      <td>NaN</td>\n",
       "      <td>NaN</td>\n",
       "      <td>NaN</td>\n",
       "      <td>NaN</td>\n",
       "      <td>NaN</td>\n",
       "      <td>NaN</td>\n",
       "      <td>NaN</td>\n",
       "      <td>NaN</td>\n",
       "    </tr>\n",
       "  </tbody>\n",
       "</table>\n",
       "<p>5 rows × 60 columns</p>\n",
       "</div>"
      ],
      "text/plain": [
       "       country iso2 iso3  year  new_sp_m014  new_sp_m1524  new_sp_m2534  \\\n",
       "0  Afghanistan   AF  AFG  1980          NaN           NaN           NaN   \n",
       "1  Afghanistan   AF  AFG  1981          NaN           NaN           NaN   \n",
       "2  Afghanistan   AF  AFG  1982          NaN           NaN           NaN   \n",
       "3  Afghanistan   AF  AFG  1983          NaN           NaN           NaN   \n",
       "4  Afghanistan   AF  AFG  1984          NaN           NaN           NaN   \n",
       "\n",
       "   new_sp_m3544  new_sp_m4554  new_sp_m5564  ...  newrel_m4554  newrel_m5564  \\\n",
       "0           NaN           NaN           NaN  ...           NaN           NaN   \n",
       "1           NaN           NaN           NaN  ...           NaN           NaN   \n",
       "2           NaN           NaN           NaN  ...           NaN           NaN   \n",
       "3           NaN           NaN           NaN  ...           NaN           NaN   \n",
       "4           NaN           NaN           NaN  ...           NaN           NaN   \n",
       "\n",
       "   newrel_m65  newrel_f014  newrel_f1524  newrel_f2534  newrel_f3544  \\\n",
       "0         NaN          NaN           NaN           NaN           NaN   \n",
       "1         NaN          NaN           NaN           NaN           NaN   \n",
       "2         NaN          NaN           NaN           NaN           NaN   \n",
       "3         NaN          NaN           NaN           NaN           NaN   \n",
       "4         NaN          NaN           NaN           NaN           NaN   \n",
       "\n",
       "   newrel_f4554  newrel_f5564  newrel_f65  \n",
       "0           NaN           NaN         NaN  \n",
       "1           NaN           NaN         NaN  \n",
       "2           NaN           NaN         NaN  \n",
       "3           NaN           NaN         NaN  \n",
       "4           NaN           NaN         NaN  \n",
       "\n",
       "[5 rows x 60 columns]"
      ]
     },
     "execution_count": 30,
     "metadata": {},
     "output_type": "execute_result"
    }
   ],
   "source": [
    "df.head()"
   ]
  },
  {
   "cell_type": "code",
   "execution_count": 31,
   "metadata": {},
   "outputs": [
    {
     "name": "stdout",
     "output_type": "stream",
     "text": [
      "<class 'pandas.core.frame.DataFrame'>\n",
      "RangeIndex: 7240 entries, 0 to 7239\n",
      "Data columns (total 58 columns):\n",
      " #   Column        Non-Null Count  Dtype  \n",
      "---  ------        --------------  -----  \n",
      " 0   country       7240 non-null   object \n",
      " 1   year          7240 non-null   int64  \n",
      " 2   new_sp_m014   3173 non-null   float64\n",
      " 3   new_sp_m1524  3209 non-null   float64\n",
      " 4   new_sp_m2534  3206 non-null   float64\n",
      " 5   new_sp_m3544  3219 non-null   float64\n",
      " 6   new_sp_m4554  3223 non-null   float64\n",
      " 7   new_sp_m5564  3218 non-null   float64\n",
      " 8   new_sp_m65    3209 non-null   float64\n",
      " 9   new_sp_f014   3174 non-null   float64\n",
      " 10  new_sp_f1524  3194 non-null   float64\n",
      " 11  new_sp_f2534  3200 non-null   float64\n",
      " 12  new_sp_f3544  3199 non-null   float64\n",
      " 13  new_sp_f4554  3204 non-null   float64\n",
      " 14  new_sp_f5564  3195 non-null   float64\n",
      " 15  new_sp_f65    3197 non-null   float64\n",
      " 16  new_sn_m014   1045 non-null   float64\n",
      " 17  new_sn_m1524  1030 non-null   float64\n",
      " 18  new_sn_m2534  1022 non-null   float64\n",
      " 19  new_sn_m3544  1025 non-null   float64\n",
      " 20  new_sn_m4554  1027 non-null   float64\n",
      " 21  new_sn_m5564  1021 non-null   float64\n",
      " 22  new_sn_m65    1020 non-null   float64\n",
      " 23  new_sn_f014   1040 non-null   float64\n",
      " 24  new_sn_f1524  1022 non-null   float64\n",
      " 25  new_sn_f2534  1016 non-null   float64\n",
      " 26  new_sn_f3544  1020 non-null   float64\n",
      " 27  new_sn_f4554  1018 non-null   float64\n",
      " 28  new_sn_f5564  1017 non-null   float64\n",
      " 29  new_sn_f65    1019 non-null   float64\n",
      " 30  new_ep_m014   1038 non-null   float64\n",
      " 31  new_ep_m1524  1026 non-null   float64\n",
      " 32  new_ep_m2534  1020 non-null   float64\n",
      " 33  new_ep_m3544  1024 non-null   float64\n",
      " 34  new_ep_m4554  1020 non-null   float64\n",
      " 35  new_ep_m5564  1015 non-null   float64\n",
      " 36  new_ep_m65    1018 non-null   float64\n",
      " 37  new_ep_f014   1032 non-null   float64\n",
      " 38  new_ep_f1524  1021 non-null   float64\n",
      " 39  new_ep_f2534  1021 non-null   float64\n",
      " 40  new_ep_f3544  1021 non-null   float64\n",
      " 41  new_ep_f4554  1017 non-null   float64\n",
      " 42  new_ep_f5564  1017 non-null   float64\n",
      " 43  new_ep_f65    1014 non-null   float64\n",
      " 44  newrel_m014   190 non-null    float64\n",
      " 45  newrel_m1524  182 non-null    float64\n",
      " 46  newrel_m2534  183 non-null    float64\n",
      " 47  newrel_m3544  184 non-null    float64\n",
      " 48  newrel_m4554  184 non-null    float64\n",
      " 49  newrel_m5564  185 non-null    float64\n",
      " 50  newrel_m65    182 non-null    float64\n",
      " 51  newrel_f014   190 non-null    float64\n",
      " 52  newrel_f1524  184 non-null    float64\n",
      " 53  newrel_f2534  182 non-null    float64\n",
      " 54  newrel_f3544  183 non-null    float64\n",
      " 55  newrel_f4554  183 non-null    float64\n",
      " 56  newrel_f5564  183 non-null    float64\n",
      " 57  newrel_f65    185 non-null    float64\n",
      "dtypes: float64(56), int64(1), object(1)\n",
      "memory usage: 3.2+ MB\n"
     ]
    }
   ],
   "source": [
    "df = df.drop(columns=['iso2', 'iso3'])\n",
    "df.info()"
   ]
  },
  {
   "cell_type": "markdown",
   "metadata": {},
   "source": [
    "## Question 1. We need to know what's included in this data.\n",
    "- How many countries are present?  \n",
    "- What's the timespan of the data?  \n",
    "- Does each country have a row for every year present?  \n",
    "- Which countries are missing years?  \n",
    "- How many rows have at least 1 non-null values across the columns 3-57?"
   ]
  },
  {
   "cell_type": "code",
   "execution_count": 32,
   "metadata": {},
   "outputs": [
    {
     "name": "stdout",
     "output_type": "stream",
     "text": [
      "Number of countries are 219\n"
     ]
    }
   ],
   "source": [
    "print(\"Number of countries are\", len(df[\"country\"].unique()))\n"
   ]
  },
  {
   "cell_type": "code",
   "execution_count": 33,
   "metadata": {},
   "outputs": [
    {
     "data": {
      "text/plain": [
       "33"
      ]
     },
     "execution_count": 33,
     "metadata": {},
     "output_type": "execute_result"
    }
   ],
   "source": [
    "df[\"year\"].max()-df[\"year\"].min()"
   ]
  },
  {
   "cell_type": "code",
   "execution_count": 34,
   "metadata": {},
   "outputs": [
    {
     "data": {
      "text/plain": [
       "False    7240\n",
       "dtype: int64"
      ]
     },
     "execution_count": 34,
     "metadata": {},
     "output_type": "execute_result"
    }
   ],
   "source": [
    "df.iloc[:,:2].duplicated().value_counts()  #There are no combinations of duplicates"
   ]
  },
  {
   "cell_type": "code",
   "execution_count": 35,
   "metadata": {},
   "outputs": [
    {
     "data": {
      "text/plain": [
       "1985    212\n",
       "1984    212\n",
       "1983    212\n",
       "1982    212\n",
       "1997    212\n",
       "Name: year, dtype: int64"
      ]
     },
     "execution_count": 35,
     "metadata": {},
     "output_type": "execute_result"
    }
   ],
   "source": [
    "df[\"year\"].value_counts().tail() #Each year needs to have a minimum of 217"
   ]
  },
  {
   "cell_type": "code",
   "execution_count": 36,
   "metadata": {},
   "outputs": [
    {
     "data": {
      "text/plain": [
       "Netherlands Antilles                 30\n",
       "Serbia & Montenegro                  25\n",
       "Timor-Leste                          12\n",
       "Montenegro                            9\n",
       "Serbia                                9\n",
       "Curacao                               4\n",
       "Bonaire, Saint Eustatius and Saba     4\n",
       "Sint Maarten (Dutch part)             4\n",
       "South Sudan                           3\n",
       "Name: country, dtype: int64"
      ]
     },
     "execution_count": 36,
     "metadata": {},
     "output_type": "execute_result"
    }
   ],
   "source": [
    "countries=pd.DataFrame(df[\"country\"].value_counts())\n",
    "countries[\"country\"].tail(9)"
   ]
  },
  {
   "cell_type": "code",
   "execution_count": 37,
   "metadata": {},
   "outputs": [
    {
     "data": {
      "text/plain": [
       "new_sp_m014     4067\n",
       "new_sp_m1524    4031\n",
       "new_sp_m2534    4034\n",
       "new_sp_m3544    4021\n",
       "new_sp_m4554    4017\n",
       "new_sp_m5564    4022\n",
       "new_sp_m65      4031\n",
       "new_sp_f014     4066\n",
       "new_sp_f1524    4046\n",
       "new_sp_f2534    4040\n",
       "new_sp_f3544    4041\n",
       "new_sp_f4554    4036\n",
       "new_sp_f5564    4045\n",
       "new_sp_f65      4043\n",
       "new_sn_m014     6195\n",
       "new_sn_m1524    6210\n",
       "new_sn_m2534    6218\n",
       "new_sn_m3544    6215\n",
       "new_sn_m4554    6213\n",
       "new_sn_m5564    6219\n",
       "new_sn_m65      6220\n",
       "new_sn_f014     6200\n",
       "new_sn_f1524    6218\n",
       "new_sn_f2534    6224\n",
       "new_sn_f3544    6220\n",
       "new_sn_f4554    6222\n",
       "new_sn_f5564    6223\n",
       "new_sn_f65      6221\n",
       "new_ep_m014     6202\n",
       "new_ep_m1524    6214\n",
       "new_ep_m2534    6220\n",
       "new_ep_m3544    6216\n",
       "new_ep_m4554    6220\n",
       "new_ep_m5564    6225\n",
       "new_ep_m65      6222\n",
       "new_ep_f014     6208\n",
       "new_ep_f1524    6219\n",
       "new_ep_f2534    6219\n",
       "new_ep_f3544    6219\n",
       "new_ep_f4554    6223\n",
       "new_ep_f5564    6223\n",
       "new_ep_f65      6226\n",
       "newrel_m014     7050\n",
       "newrel_m1524    7058\n",
       "newrel_m2534    7057\n",
       "newrel_m3544    7056\n",
       "newrel_m4554    7056\n",
       "newrel_m5564    7055\n",
       "newrel_m65      7058\n",
       "newrel_f014     7050\n",
       "newrel_f1524    7056\n",
       "newrel_f2534    7058\n",
       "newrel_f3544    7057\n",
       "newrel_f4554    7057\n",
       "dtype: int64"
      ]
     },
     "execution_count": 37,
     "metadata": {},
     "output_type": "execute_result"
    }
   ],
   "source": [
    "df.iloc[:,2:56].isna().sum()"
   ]
  },
  {
   "cell_type": "markdown",
   "metadata": {},
   "source": [
    "## Question 2: Wide data isn't usually helpful.\n",
    "Convert this to a long format with the following columns:  \n",
    "1. country  \n",
    "2. year  \n",
    "3. diagnosis method: mapping should be: \n",
    "\n",
    "```\n",
    "  {'newsp':'Pulmonary Smear (+)'\n",
    "  ,'newsn':'Pulmonary Smear (-)'\n",
    "  ,'newep':'Extrapulmonary'\n",
    "  ,'newrel':'Relapse'}   \n",
    " ```\n",
    "\n",
    "4. gender: male or female.   \n",
    "5. age: lower_age - higher_age, e.g., 0-14  \n",
    "6. number of cases  \n",
    "\n",
    "__Note__: You can use `replace` (https://pandas.pydata.org/docs/reference/api/pandas.DataFrame.replace.html)"
   ]
  },
  {
   "cell_type": "code",
   "execution_count": 38,
   "metadata": {},
   "outputs": [
    {
     "name": "stdout",
     "output_type": "stream",
     "text": [
      "<class 'pandas.core.frame.DataFrame'>\n",
      "RangeIndex: 7240 entries, 0 to 7239\n",
      "Data columns (total 58 columns):\n",
      " #   Column        Non-Null Count  Dtype  \n",
      "---  ------        --------------  -----  \n",
      " 0   country       7240 non-null   object \n",
      " 1   year          7240 non-null   int64  \n",
      " 2   new_sp_m014   3173 non-null   float64\n",
      " 3   new_sp_m1524  3209 non-null   float64\n",
      " 4   new_sp_m2534  3206 non-null   float64\n",
      " 5   new_sp_m3544  3219 non-null   float64\n",
      " 6   new_sp_m4554  3223 non-null   float64\n",
      " 7   new_sp_m5564  3218 non-null   float64\n",
      " 8   new_sp_m65    3209 non-null   float64\n",
      " 9   new_sp_f014   3174 non-null   float64\n",
      " 10  new_sp_f1524  3194 non-null   float64\n",
      " 11  new_sp_f2534  3200 non-null   float64\n",
      " 12  new_sp_f3544  3199 non-null   float64\n",
      " 13  new_sp_f4554  3204 non-null   float64\n",
      " 14  new_sp_f5564  3195 non-null   float64\n",
      " 15  new_sp_f65    3197 non-null   float64\n",
      " 16  new_sn_m014   1045 non-null   float64\n",
      " 17  new_sn_m1524  1030 non-null   float64\n",
      " 18  new_sn_m2534  1022 non-null   float64\n",
      " 19  new_sn_m3544  1025 non-null   float64\n",
      " 20  new_sn_m4554  1027 non-null   float64\n",
      " 21  new_sn_m5564  1021 non-null   float64\n",
      " 22  new_sn_m65    1020 non-null   float64\n",
      " 23  new_sn_f014   1040 non-null   float64\n",
      " 24  new_sn_f1524  1022 non-null   float64\n",
      " 25  new_sn_f2534  1016 non-null   float64\n",
      " 26  new_sn_f3544  1020 non-null   float64\n",
      " 27  new_sn_f4554  1018 non-null   float64\n",
      " 28  new_sn_f5564  1017 non-null   float64\n",
      " 29  new_sn_f65    1019 non-null   float64\n",
      " 30  new_ep_m014   1038 non-null   float64\n",
      " 31  new_ep_m1524  1026 non-null   float64\n",
      " 32  new_ep_m2534  1020 non-null   float64\n",
      " 33  new_ep_m3544  1024 non-null   float64\n",
      " 34  new_ep_m4554  1020 non-null   float64\n",
      " 35  new_ep_m5564  1015 non-null   float64\n",
      " 36  new_ep_m65    1018 non-null   float64\n",
      " 37  new_ep_f014   1032 non-null   float64\n",
      " 38  new_ep_f1524  1021 non-null   float64\n",
      " 39  new_ep_f2534  1021 non-null   float64\n",
      " 40  new_ep_f3544  1021 non-null   float64\n",
      " 41  new_ep_f4554  1017 non-null   float64\n",
      " 42  new_ep_f5564  1017 non-null   float64\n",
      " 43  new_ep_f65    1014 non-null   float64\n",
      " 44  newrel_m014   190 non-null    float64\n",
      " 45  newrel_m1524  182 non-null    float64\n",
      " 46  newrel_m2534  183 non-null    float64\n",
      " 47  newrel_m3544  184 non-null    float64\n",
      " 48  newrel_m4554  184 non-null    float64\n",
      " 49  newrel_m5564  185 non-null    float64\n",
      " 50  newrel_m65    182 non-null    float64\n",
      " 51  newrel_f014   190 non-null    float64\n",
      " 52  newrel_f1524  184 non-null    float64\n",
      " 53  newrel_f2534  182 non-null    float64\n",
      " 54  newrel_f3544  183 non-null    float64\n",
      " 55  newrel_f4554  183 non-null    float64\n",
      " 56  newrel_f5564  183 non-null    float64\n",
      " 57  newrel_f65    185 non-null    float64\n",
      "dtypes: float64(56), int64(1), object(1)\n",
      "memory usage: 3.2+ MB\n"
     ]
    }
   ],
   "source": [
    "df.info()"
   ]
  },
  {
   "cell_type": "code",
   "execution_count": 39,
   "metadata": {},
   "outputs": [
    {
     "data": {
      "text/html": [
       "<div>\n",
       "<style scoped>\n",
       "    .dataframe tbody tr th:only-of-type {\n",
       "        vertical-align: middle;\n",
       "    }\n",
       "\n",
       "    .dataframe tbody tr th {\n",
       "        vertical-align: top;\n",
       "    }\n",
       "\n",
       "    .dataframe thead th {\n",
       "        text-align: right;\n",
       "    }\n",
       "</style>\n",
       "<table border=\"1\" class=\"dataframe\">\n",
       "  <thead>\n",
       "    <tr style=\"text-align: right;\">\n",
       "      <th></th>\n",
       "      <th>country</th>\n",
       "      <th>year</th>\n",
       "      <th>new_sp_m014</th>\n",
       "      <th>new_sp_m1524</th>\n",
       "      <th>new_sp_m2534</th>\n",
       "      <th>new_sp_m3544</th>\n",
       "      <th>new_sp_m4554</th>\n",
       "      <th>new_sp_m5564</th>\n",
       "      <th>new_sp_m65</th>\n",
       "      <th>new_sp_f014</th>\n",
       "      <th>...</th>\n",
       "      <th>newrel_m4554</th>\n",
       "      <th>newrel_m5564</th>\n",
       "      <th>newrel_m65</th>\n",
       "      <th>newrel_f014</th>\n",
       "      <th>newrel_f1524</th>\n",
       "      <th>newrel_f2534</th>\n",
       "      <th>newrel_f3544</th>\n",
       "      <th>newrel_f4554</th>\n",
       "      <th>newrel_f5564</th>\n",
       "      <th>newrel_f65</th>\n",
       "    </tr>\n",
       "  </thead>\n",
       "  <tbody>\n",
       "    <tr>\n",
       "      <th>0</th>\n",
       "      <td>Afghanistan</td>\n",
       "      <td>1980</td>\n",
       "      <td>NaN</td>\n",
       "      <td>NaN</td>\n",
       "      <td>NaN</td>\n",
       "      <td>NaN</td>\n",
       "      <td>NaN</td>\n",
       "      <td>NaN</td>\n",
       "      <td>NaN</td>\n",
       "      <td>NaN</td>\n",
       "      <td>...</td>\n",
       "      <td>NaN</td>\n",
       "      <td>NaN</td>\n",
       "      <td>NaN</td>\n",
       "      <td>NaN</td>\n",
       "      <td>NaN</td>\n",
       "      <td>NaN</td>\n",
       "      <td>NaN</td>\n",
       "      <td>NaN</td>\n",
       "      <td>NaN</td>\n",
       "      <td>NaN</td>\n",
       "    </tr>\n",
       "    <tr>\n",
       "      <th>1</th>\n",
       "      <td>Afghanistan</td>\n",
       "      <td>1981</td>\n",
       "      <td>NaN</td>\n",
       "      <td>NaN</td>\n",
       "      <td>NaN</td>\n",
       "      <td>NaN</td>\n",
       "      <td>NaN</td>\n",
       "      <td>NaN</td>\n",
       "      <td>NaN</td>\n",
       "      <td>NaN</td>\n",
       "      <td>...</td>\n",
       "      <td>NaN</td>\n",
       "      <td>NaN</td>\n",
       "      <td>NaN</td>\n",
       "      <td>NaN</td>\n",
       "      <td>NaN</td>\n",
       "      <td>NaN</td>\n",
       "      <td>NaN</td>\n",
       "      <td>NaN</td>\n",
       "      <td>NaN</td>\n",
       "      <td>NaN</td>\n",
       "    </tr>\n",
       "    <tr>\n",
       "      <th>2</th>\n",
       "      <td>Afghanistan</td>\n",
       "      <td>1982</td>\n",
       "      <td>NaN</td>\n",
       "      <td>NaN</td>\n",
       "      <td>NaN</td>\n",
       "      <td>NaN</td>\n",
       "      <td>NaN</td>\n",
       "      <td>NaN</td>\n",
       "      <td>NaN</td>\n",
       "      <td>NaN</td>\n",
       "      <td>...</td>\n",
       "      <td>NaN</td>\n",
       "      <td>NaN</td>\n",
       "      <td>NaN</td>\n",
       "      <td>NaN</td>\n",
       "      <td>NaN</td>\n",
       "      <td>NaN</td>\n",
       "      <td>NaN</td>\n",
       "      <td>NaN</td>\n",
       "      <td>NaN</td>\n",
       "      <td>NaN</td>\n",
       "    </tr>\n",
       "    <tr>\n",
       "      <th>3</th>\n",
       "      <td>Afghanistan</td>\n",
       "      <td>1983</td>\n",
       "      <td>NaN</td>\n",
       "      <td>NaN</td>\n",
       "      <td>NaN</td>\n",
       "      <td>NaN</td>\n",
       "      <td>NaN</td>\n",
       "      <td>NaN</td>\n",
       "      <td>NaN</td>\n",
       "      <td>NaN</td>\n",
       "      <td>...</td>\n",
       "      <td>NaN</td>\n",
       "      <td>NaN</td>\n",
       "      <td>NaN</td>\n",
       "      <td>NaN</td>\n",
       "      <td>NaN</td>\n",
       "      <td>NaN</td>\n",
       "      <td>NaN</td>\n",
       "      <td>NaN</td>\n",
       "      <td>NaN</td>\n",
       "      <td>NaN</td>\n",
       "    </tr>\n",
       "    <tr>\n",
       "      <th>4</th>\n",
       "      <td>Afghanistan</td>\n",
       "      <td>1984</td>\n",
       "      <td>NaN</td>\n",
       "      <td>NaN</td>\n",
       "      <td>NaN</td>\n",
       "      <td>NaN</td>\n",
       "      <td>NaN</td>\n",
       "      <td>NaN</td>\n",
       "      <td>NaN</td>\n",
       "      <td>NaN</td>\n",
       "      <td>...</td>\n",
       "      <td>NaN</td>\n",
       "      <td>NaN</td>\n",
       "      <td>NaN</td>\n",
       "      <td>NaN</td>\n",
       "      <td>NaN</td>\n",
       "      <td>NaN</td>\n",
       "      <td>NaN</td>\n",
       "      <td>NaN</td>\n",
       "      <td>NaN</td>\n",
       "      <td>NaN</td>\n",
       "    </tr>\n",
       "    <tr>\n",
       "      <th>...</th>\n",
       "      <td>...</td>\n",
       "      <td>...</td>\n",
       "      <td>...</td>\n",
       "      <td>...</td>\n",
       "      <td>...</td>\n",
       "      <td>...</td>\n",
       "      <td>...</td>\n",
       "      <td>...</td>\n",
       "      <td>...</td>\n",
       "      <td>...</td>\n",
       "      <td>...</td>\n",
       "      <td>...</td>\n",
       "      <td>...</td>\n",
       "      <td>...</td>\n",
       "      <td>...</td>\n",
       "      <td>...</td>\n",
       "      <td>...</td>\n",
       "      <td>...</td>\n",
       "      <td>...</td>\n",
       "      <td>...</td>\n",
       "      <td>...</td>\n",
       "    </tr>\n",
       "    <tr>\n",
       "      <th>7235</th>\n",
       "      <td>Zimbabwe</td>\n",
       "      <td>2009</td>\n",
       "      <td>125.0</td>\n",
       "      <td>578.0</td>\n",
       "      <td>NaN</td>\n",
       "      <td>3471.0</td>\n",
       "      <td>681.0</td>\n",
       "      <td>293.0</td>\n",
       "      <td>192.0</td>\n",
       "      <td>180.0</td>\n",
       "      <td>...</td>\n",
       "      <td>NaN</td>\n",
       "      <td>NaN</td>\n",
       "      <td>NaN</td>\n",
       "      <td>NaN</td>\n",
       "      <td>NaN</td>\n",
       "      <td>NaN</td>\n",
       "      <td>NaN</td>\n",
       "      <td>NaN</td>\n",
       "      <td>NaN</td>\n",
       "      <td>NaN</td>\n",
       "    </tr>\n",
       "    <tr>\n",
       "      <th>7236</th>\n",
       "      <td>Zimbabwe</td>\n",
       "      <td>2010</td>\n",
       "      <td>150.0</td>\n",
       "      <td>710.0</td>\n",
       "      <td>2208.0</td>\n",
       "      <td>1682.0</td>\n",
       "      <td>761.0</td>\n",
       "      <td>350.0</td>\n",
       "      <td>252.0</td>\n",
       "      <td>173.0</td>\n",
       "      <td>...</td>\n",
       "      <td>NaN</td>\n",
       "      <td>NaN</td>\n",
       "      <td>NaN</td>\n",
       "      <td>NaN</td>\n",
       "      <td>NaN</td>\n",
       "      <td>NaN</td>\n",
       "      <td>NaN</td>\n",
       "      <td>NaN</td>\n",
       "      <td>NaN</td>\n",
       "      <td>NaN</td>\n",
       "    </tr>\n",
       "    <tr>\n",
       "      <th>7237</th>\n",
       "      <td>Zimbabwe</td>\n",
       "      <td>2011</td>\n",
       "      <td>152.0</td>\n",
       "      <td>784.0</td>\n",
       "      <td>2467.0</td>\n",
       "      <td>2071.0</td>\n",
       "      <td>780.0</td>\n",
       "      <td>377.0</td>\n",
       "      <td>278.0</td>\n",
       "      <td>174.0</td>\n",
       "      <td>...</td>\n",
       "      <td>NaN</td>\n",
       "      <td>NaN</td>\n",
       "      <td>NaN</td>\n",
       "      <td>NaN</td>\n",
       "      <td>NaN</td>\n",
       "      <td>NaN</td>\n",
       "      <td>NaN</td>\n",
       "      <td>NaN</td>\n",
       "      <td>NaN</td>\n",
       "      <td>NaN</td>\n",
       "    </tr>\n",
       "    <tr>\n",
       "      <th>7238</th>\n",
       "      <td>Zimbabwe</td>\n",
       "      <td>2012</td>\n",
       "      <td>120.0</td>\n",
       "      <td>783.0</td>\n",
       "      <td>2421.0</td>\n",
       "      <td>2086.0</td>\n",
       "      <td>796.0</td>\n",
       "      <td>360.0</td>\n",
       "      <td>271.0</td>\n",
       "      <td>173.0</td>\n",
       "      <td>...</td>\n",
       "      <td>NaN</td>\n",
       "      <td>NaN</td>\n",
       "      <td>NaN</td>\n",
       "      <td>NaN</td>\n",
       "      <td>NaN</td>\n",
       "      <td>NaN</td>\n",
       "      <td>NaN</td>\n",
       "      <td>NaN</td>\n",
       "      <td>NaN</td>\n",
       "      <td>NaN</td>\n",
       "    </tr>\n",
       "    <tr>\n",
       "      <th>7239</th>\n",
       "      <td>Zimbabwe</td>\n",
       "      <td>2013</td>\n",
       "      <td>NaN</td>\n",
       "      <td>NaN</td>\n",
       "      <td>NaN</td>\n",
       "      <td>NaN</td>\n",
       "      <td>NaN</td>\n",
       "      <td>NaN</td>\n",
       "      <td>NaN</td>\n",
       "      <td>NaN</td>\n",
       "      <td>...</td>\n",
       "      <td>2349.0</td>\n",
       "      <td>1206.0</td>\n",
       "      <td>1208.0</td>\n",
       "      <td>1252.0</td>\n",
       "      <td>2069.0</td>\n",
       "      <td>4649.0</td>\n",
       "      <td>3526.0</td>\n",
       "      <td>1453.0</td>\n",
       "      <td>811.0</td>\n",
       "      <td>725.0</td>\n",
       "    </tr>\n",
       "  </tbody>\n",
       "</table>\n",
       "<p>7240 rows × 58 columns</p>\n",
       "</div>"
      ],
      "text/plain": [
       "          country  year  new_sp_m014  new_sp_m1524  new_sp_m2534  \\\n",
       "0     Afghanistan  1980          NaN           NaN           NaN   \n",
       "1     Afghanistan  1981          NaN           NaN           NaN   \n",
       "2     Afghanistan  1982          NaN           NaN           NaN   \n",
       "3     Afghanistan  1983          NaN           NaN           NaN   \n",
       "4     Afghanistan  1984          NaN           NaN           NaN   \n",
       "...           ...   ...          ...           ...           ...   \n",
       "7235     Zimbabwe  2009        125.0         578.0           NaN   \n",
       "7236     Zimbabwe  2010        150.0         710.0        2208.0   \n",
       "7237     Zimbabwe  2011        152.0         784.0        2467.0   \n",
       "7238     Zimbabwe  2012        120.0         783.0        2421.0   \n",
       "7239     Zimbabwe  2013          NaN           NaN           NaN   \n",
       "\n",
       "      new_sp_m3544  new_sp_m4554  new_sp_m5564  new_sp_m65  new_sp_f014  ...  \\\n",
       "0              NaN           NaN           NaN         NaN          NaN  ...   \n",
       "1              NaN           NaN           NaN         NaN          NaN  ...   \n",
       "2              NaN           NaN           NaN         NaN          NaN  ...   \n",
       "3              NaN           NaN           NaN         NaN          NaN  ...   \n",
       "4              NaN           NaN           NaN         NaN          NaN  ...   \n",
       "...            ...           ...           ...         ...          ...  ...   \n",
       "7235        3471.0         681.0         293.0       192.0        180.0  ...   \n",
       "7236        1682.0         761.0         350.0       252.0        173.0  ...   \n",
       "7237        2071.0         780.0         377.0       278.0        174.0  ...   \n",
       "7238        2086.0         796.0         360.0       271.0        173.0  ...   \n",
       "7239           NaN           NaN           NaN         NaN          NaN  ...   \n",
       "\n",
       "      newrel_m4554  newrel_m5564  newrel_m65  newrel_f014  newrel_f1524  \\\n",
       "0              NaN           NaN         NaN          NaN           NaN   \n",
       "1              NaN           NaN         NaN          NaN           NaN   \n",
       "2              NaN           NaN         NaN          NaN           NaN   \n",
       "3              NaN           NaN         NaN          NaN           NaN   \n",
       "4              NaN           NaN         NaN          NaN           NaN   \n",
       "...            ...           ...         ...          ...           ...   \n",
       "7235           NaN           NaN         NaN          NaN           NaN   \n",
       "7236           NaN           NaN         NaN          NaN           NaN   \n",
       "7237           NaN           NaN         NaN          NaN           NaN   \n",
       "7238           NaN           NaN         NaN          NaN           NaN   \n",
       "7239        2349.0        1206.0      1208.0       1252.0        2069.0   \n",
       "\n",
       "      newrel_f2534  newrel_f3544  newrel_f4554  newrel_f5564  newrel_f65  \n",
       "0              NaN           NaN           NaN           NaN         NaN  \n",
       "1              NaN           NaN           NaN           NaN         NaN  \n",
       "2              NaN           NaN           NaN           NaN         NaN  \n",
       "3              NaN           NaN           NaN           NaN         NaN  \n",
       "4              NaN           NaN           NaN           NaN         NaN  \n",
       "...            ...           ...           ...           ...         ...  \n",
       "7235           NaN           NaN           NaN           NaN         NaN  \n",
       "7236           NaN           NaN           NaN           NaN         NaN  \n",
       "7237           NaN           NaN           NaN           NaN         NaN  \n",
       "7238           NaN           NaN           NaN           NaN         NaN  \n",
       "7239        4649.0        3526.0        1453.0         811.0       725.0  \n",
       "\n",
       "[7240 rows x 58 columns]"
      ]
     },
     "execution_count": 39,
     "metadata": {},
     "output_type": "execute_result"
    }
   ],
   "source": [
    "df"
   ]
  },
  {
   "cell_type": "code",
   "execution_count": 40,
   "metadata": {},
   "outputs": [],
   "source": [
    "df_new = (df.melt(id_vars=['year','country'], var_name='Age', value_name='Cases')\n",
    ")"
   ]
  },
  {
   "cell_type": "code",
   "execution_count": 41,
   "metadata": {},
   "outputs": [],
   "source": [
    "df_new[\"gender\"]=[(x.split('_')[-1][:1]) for x in df_new[\"Age\"]]"
   ]
  },
  {
   "cell_type": "code",
   "execution_count": 42,
   "metadata": {},
   "outputs": [],
   "source": [
    "df_new[\"gender\"]=df_new[\"gender\"].map({\n",
    "    'm':'male',\n",
    "    'f':'female'})"
   ]
  },
  {
   "cell_type": "code",
   "execution_count": 43,
   "metadata": {},
   "outputs": [],
   "source": [
    "df_new[\"AGE\"]=[(x.split('_')[-1][1:]) for x in df_new[\"Age\"]]"
   ]
  },
  {
   "cell_type": "code",
   "execution_count": 44,
   "metadata": {},
   "outputs": [],
   "source": [
    "df_new[\"AGE\"]=df_new[\"AGE\"].map({\n",
    "    '014':'0-14',\n",
    "    '1524':'15-24',\n",
    "    '2534':\"25-34\",\n",
    "    '3544':\"35-44\",\n",
    "    '4554':'45-54',\n",
    "    '5564':'55-64',\n",
    "    '65':'65+'\n",
    "})"
   ]
  },
  {
   "cell_type": "code",
   "execution_count": 45,
   "metadata": {},
   "outputs": [],
   "source": [
    "df_new[\"diagnosis\"]=(df_new[\"Age\"].str.extract(pat='([\"a-z|_\"]+)m'))"
   ]
  },
  {
   "cell_type": "code",
   "execution_count": 46,
   "metadata": {},
   "outputs": [],
   "source": [
    "df_new[\"diagnosis\"]=df_new[\"diagnosis\"].map({\n",
    "    'new_sp_':'Pulmonary Smear (+)',\n",
    "    'new_sn_':'Pulmonary Smear (-)',\n",
    "    'new_ep_':\"Extrapulmonary\",\n",
    "    'newrel':\"Relapse\"\n",
    "})"
   ]
  },
  {
   "cell_type": "code",
   "execution_count": 47,
   "metadata": {},
   "outputs": [
    {
     "data": {
      "text/html": [
       "<div>\n",
       "<style scoped>\n",
       "    .dataframe tbody tr th:only-of-type {\n",
       "        vertical-align: middle;\n",
       "    }\n",
       "\n",
       "    .dataframe tbody tr th {\n",
       "        vertical-align: top;\n",
       "    }\n",
       "\n",
       "    .dataframe thead th {\n",
       "        text-align: right;\n",
       "    }\n",
       "</style>\n",
       "<table border=\"1\" class=\"dataframe\">\n",
       "  <thead>\n",
       "    <tr style=\"text-align: right;\">\n",
       "      <th></th>\n",
       "      <th>year</th>\n",
       "      <th>country</th>\n",
       "      <th>Age</th>\n",
       "      <th>Cases</th>\n",
       "      <th>gender</th>\n",
       "      <th>AGE</th>\n",
       "      <th>diagnosis</th>\n",
       "    </tr>\n",
       "  </thead>\n",
       "  <tbody>\n",
       "    <tr>\n",
       "      <th>0</th>\n",
       "      <td>1980</td>\n",
       "      <td>Afghanistan</td>\n",
       "      <td>new_sp_m014</td>\n",
       "      <td>NaN</td>\n",
       "      <td>male</td>\n",
       "      <td>0-14</td>\n",
       "      <td>Pulmonary Smear (+)</td>\n",
       "    </tr>\n",
       "    <tr>\n",
       "      <th>1</th>\n",
       "      <td>1981</td>\n",
       "      <td>Afghanistan</td>\n",
       "      <td>new_sp_m014</td>\n",
       "      <td>NaN</td>\n",
       "      <td>male</td>\n",
       "      <td>0-14</td>\n",
       "      <td>Pulmonary Smear (+)</td>\n",
       "    </tr>\n",
       "    <tr>\n",
       "      <th>2</th>\n",
       "      <td>1982</td>\n",
       "      <td>Afghanistan</td>\n",
       "      <td>new_sp_m014</td>\n",
       "      <td>NaN</td>\n",
       "      <td>male</td>\n",
       "      <td>0-14</td>\n",
       "      <td>Pulmonary Smear (+)</td>\n",
       "    </tr>\n",
       "    <tr>\n",
       "      <th>3</th>\n",
       "      <td>1983</td>\n",
       "      <td>Afghanistan</td>\n",
       "      <td>new_sp_m014</td>\n",
       "      <td>NaN</td>\n",
       "      <td>male</td>\n",
       "      <td>0-14</td>\n",
       "      <td>Pulmonary Smear (+)</td>\n",
       "    </tr>\n",
       "    <tr>\n",
       "      <th>4</th>\n",
       "      <td>1984</td>\n",
       "      <td>Afghanistan</td>\n",
       "      <td>new_sp_m014</td>\n",
       "      <td>NaN</td>\n",
       "      <td>male</td>\n",
       "      <td>0-14</td>\n",
       "      <td>Pulmonary Smear (+)</td>\n",
       "    </tr>\n",
       "    <tr>\n",
       "      <th>...</th>\n",
       "      <td>...</td>\n",
       "      <td>...</td>\n",
       "      <td>...</td>\n",
       "      <td>...</td>\n",
       "      <td>...</td>\n",
       "      <td>...</td>\n",
       "      <td>...</td>\n",
       "    </tr>\n",
       "    <tr>\n",
       "      <th>405435</th>\n",
       "      <td>2009</td>\n",
       "      <td>Zimbabwe</td>\n",
       "      <td>newrel_f65</td>\n",
       "      <td>NaN</td>\n",
       "      <td>female</td>\n",
       "      <td>65+</td>\n",
       "      <td>NaN</td>\n",
       "    </tr>\n",
       "    <tr>\n",
       "      <th>405436</th>\n",
       "      <td>2010</td>\n",
       "      <td>Zimbabwe</td>\n",
       "      <td>newrel_f65</td>\n",
       "      <td>NaN</td>\n",
       "      <td>female</td>\n",
       "      <td>65+</td>\n",
       "      <td>NaN</td>\n",
       "    </tr>\n",
       "    <tr>\n",
       "      <th>405437</th>\n",
       "      <td>2011</td>\n",
       "      <td>Zimbabwe</td>\n",
       "      <td>newrel_f65</td>\n",
       "      <td>NaN</td>\n",
       "      <td>female</td>\n",
       "      <td>65+</td>\n",
       "      <td>NaN</td>\n",
       "    </tr>\n",
       "    <tr>\n",
       "      <th>405438</th>\n",
       "      <td>2012</td>\n",
       "      <td>Zimbabwe</td>\n",
       "      <td>newrel_f65</td>\n",
       "      <td>NaN</td>\n",
       "      <td>female</td>\n",
       "      <td>65+</td>\n",
       "      <td>NaN</td>\n",
       "    </tr>\n",
       "    <tr>\n",
       "      <th>405439</th>\n",
       "      <td>2013</td>\n",
       "      <td>Zimbabwe</td>\n",
       "      <td>newrel_f65</td>\n",
       "      <td>725.0</td>\n",
       "      <td>female</td>\n",
       "      <td>65+</td>\n",
       "      <td>NaN</td>\n",
       "    </tr>\n",
       "  </tbody>\n",
       "</table>\n",
       "<p>405440 rows × 7 columns</p>\n",
       "</div>"
      ],
      "text/plain": [
       "        year      country          Age  Cases  gender   AGE  \\\n",
       "0       1980  Afghanistan  new_sp_m014    NaN    male  0-14   \n",
       "1       1981  Afghanistan  new_sp_m014    NaN    male  0-14   \n",
       "2       1982  Afghanistan  new_sp_m014    NaN    male  0-14   \n",
       "3       1983  Afghanistan  new_sp_m014    NaN    male  0-14   \n",
       "4       1984  Afghanistan  new_sp_m014    NaN    male  0-14   \n",
       "...      ...          ...          ...    ...     ...   ...   \n",
       "405435  2009     Zimbabwe   newrel_f65    NaN  female   65+   \n",
       "405436  2010     Zimbabwe   newrel_f65    NaN  female   65+   \n",
       "405437  2011     Zimbabwe   newrel_f65    NaN  female   65+   \n",
       "405438  2012     Zimbabwe   newrel_f65    NaN  female   65+   \n",
       "405439  2013     Zimbabwe   newrel_f65  725.0  female   65+   \n",
       "\n",
       "                  diagnosis  \n",
       "0       Pulmonary Smear (+)  \n",
       "1       Pulmonary Smear (+)  \n",
       "2       Pulmonary Smear (+)  \n",
       "3       Pulmonary Smear (+)  \n",
       "4       Pulmonary Smear (+)  \n",
       "...                     ...  \n",
       "405435                  NaN  \n",
       "405436                  NaN  \n",
       "405437                  NaN  \n",
       "405438                  NaN  \n",
       "405439                  NaN  \n",
       "\n",
       "[405440 rows x 7 columns]"
      ]
     },
     "execution_count": 47,
     "metadata": {},
     "output_type": "execute_result"
    }
   ],
   "source": [
    "df_new"
   ]
  },
  {
   "cell_type": "code",
   "execution_count": 51,
   "metadata": {},
   "outputs": [],
   "source": [
    "df_new.drop(columns=['Age'],inplace=True)"
   ]
  },
  {
   "cell_type": "code",
   "execution_count": 55,
   "metadata": {},
   "outputs": [
    {
     "data": {
      "text/html": [
       "<div>\n",
       "<style scoped>\n",
       "    .dataframe tbody tr th:only-of-type {\n",
       "        vertical-align: middle;\n",
       "    }\n",
       "\n",
       "    .dataframe tbody tr th {\n",
       "        vertical-align: top;\n",
       "    }\n",
       "\n",
       "    .dataframe thead th {\n",
       "        text-align: right;\n",
       "    }\n",
       "</style>\n",
       "<table border=\"1\" class=\"dataframe\">\n",
       "  <thead>\n",
       "    <tr style=\"text-align: right;\">\n",
       "      <th></th>\n",
       "      <th>year</th>\n",
       "      <th>country</th>\n",
       "      <th>Cases</th>\n",
       "      <th>gender</th>\n",
       "      <th>AGE</th>\n",
       "      <th>diagnosis</th>\n",
       "    </tr>\n",
       "  </thead>\n",
       "  <tbody>\n",
       "    <tr>\n",
       "      <th>0</th>\n",
       "      <td>1980</td>\n",
       "      <td>Afghanistan</td>\n",
       "      <td>NaN</td>\n",
       "      <td>male</td>\n",
       "      <td>0-14</td>\n",
       "      <td>Pulmonary Smear (+)</td>\n",
       "    </tr>\n",
       "    <tr>\n",
       "      <th>1</th>\n",
       "      <td>1981</td>\n",
       "      <td>Afghanistan</td>\n",
       "      <td>NaN</td>\n",
       "      <td>male</td>\n",
       "      <td>0-14</td>\n",
       "      <td>Pulmonary Smear (+)</td>\n",
       "    </tr>\n",
       "    <tr>\n",
       "      <th>2</th>\n",
       "      <td>1982</td>\n",
       "      <td>Afghanistan</td>\n",
       "      <td>NaN</td>\n",
       "      <td>male</td>\n",
       "      <td>0-14</td>\n",
       "      <td>Pulmonary Smear (+)</td>\n",
       "    </tr>\n",
       "    <tr>\n",
       "      <th>3</th>\n",
       "      <td>1983</td>\n",
       "      <td>Afghanistan</td>\n",
       "      <td>NaN</td>\n",
       "      <td>male</td>\n",
       "      <td>0-14</td>\n",
       "      <td>Pulmonary Smear (+)</td>\n",
       "    </tr>\n",
       "    <tr>\n",
       "      <th>4</th>\n",
       "      <td>1984</td>\n",
       "      <td>Afghanistan</td>\n",
       "      <td>NaN</td>\n",
       "      <td>male</td>\n",
       "      <td>0-14</td>\n",
       "      <td>Pulmonary Smear (+)</td>\n",
       "    </tr>\n",
       "    <tr>\n",
       "      <th>...</th>\n",
       "      <td>...</td>\n",
       "      <td>...</td>\n",
       "      <td>...</td>\n",
       "      <td>...</td>\n",
       "      <td>...</td>\n",
       "      <td>...</td>\n",
       "    </tr>\n",
       "    <tr>\n",
       "      <th>405435</th>\n",
       "      <td>2009</td>\n",
       "      <td>Zimbabwe</td>\n",
       "      <td>NaN</td>\n",
       "      <td>female</td>\n",
       "      <td>65+</td>\n",
       "      <td>NaN</td>\n",
       "    </tr>\n",
       "    <tr>\n",
       "      <th>405436</th>\n",
       "      <td>2010</td>\n",
       "      <td>Zimbabwe</td>\n",
       "      <td>NaN</td>\n",
       "      <td>female</td>\n",
       "      <td>65+</td>\n",
       "      <td>NaN</td>\n",
       "    </tr>\n",
       "    <tr>\n",
       "      <th>405437</th>\n",
       "      <td>2011</td>\n",
       "      <td>Zimbabwe</td>\n",
       "      <td>NaN</td>\n",
       "      <td>female</td>\n",
       "      <td>65+</td>\n",
       "      <td>NaN</td>\n",
       "    </tr>\n",
       "    <tr>\n",
       "      <th>405438</th>\n",
       "      <td>2012</td>\n",
       "      <td>Zimbabwe</td>\n",
       "      <td>NaN</td>\n",
       "      <td>female</td>\n",
       "      <td>65+</td>\n",
       "      <td>NaN</td>\n",
       "    </tr>\n",
       "    <tr>\n",
       "      <th>405439</th>\n",
       "      <td>2013</td>\n",
       "      <td>Zimbabwe</td>\n",
       "      <td>725.0</td>\n",
       "      <td>female</td>\n",
       "      <td>65+</td>\n",
       "      <td>NaN</td>\n",
       "    </tr>\n",
       "  </tbody>\n",
       "</table>\n",
       "<p>405440 rows × 6 columns</p>\n",
       "</div>"
      ],
      "text/plain": [
       "        year      country  Cases  gender   AGE            diagnosis\n",
       "0       1980  Afghanistan    NaN    male  0-14  Pulmonary Smear (+)\n",
       "1       1981  Afghanistan    NaN    male  0-14  Pulmonary Smear (+)\n",
       "2       1982  Afghanistan    NaN    male  0-14  Pulmonary Smear (+)\n",
       "3       1983  Afghanistan    NaN    male  0-14  Pulmonary Smear (+)\n",
       "4       1984  Afghanistan    NaN    male  0-14  Pulmonary Smear (+)\n",
       "...      ...          ...    ...     ...   ...                  ...\n",
       "405435  2009     Zimbabwe    NaN  female   65+                  NaN\n",
       "405436  2010     Zimbabwe    NaN  female   65+                  NaN\n",
       "405437  2011     Zimbabwe    NaN  female   65+                  NaN\n",
       "405438  2012     Zimbabwe    NaN  female   65+                  NaN\n",
       "405439  2013     Zimbabwe  725.0  female   65+                  NaN\n",
       "\n",
       "[405440 rows x 6 columns]"
      ]
     },
     "execution_count": 55,
     "metadata": {},
     "output_type": "execute_result"
    }
   ],
   "source": [
    "df_new"
   ]
  },
  {
   "cell_type": "code",
   "execution_count": 54,
   "metadata": {},
   "outputs": [
    {
     "data": {
      "text/plain": [
       "year              0\n",
       "country           0\n",
       "Cases        329394\n",
       "gender            0\n",
       "AGE               0\n",
       "diagnosis    253400\n",
       "dtype: int64"
      ]
     },
     "execution_count": 54,
     "metadata": {},
     "output_type": "execute_result"
    }
   ],
   "source": [
    "df_new.isna().sum()  #We will be dropping out the null values, as the cases are not registered"
   ]
  },
  {
   "cell_type": "code",
   "execution_count": 23,
   "metadata": {},
   "outputs": [],
   "source": [
    "df_new.dropna(inplace=True)"
   ]
  },
  {
   "cell_type": "code",
   "execution_count": 24,
   "metadata": {},
   "outputs": [
    {
     "name": "stdout",
     "output_type": "stream",
     "text": [
      "<class 'pandas.core.frame.DataFrame'>\n",
      "Int64Index: 36808 entries, 17 to 253398\n",
      "Data columns (total 7 columns):\n",
      " #   Column     Non-Null Count  Dtype  \n",
      "---  ------     --------------  -----  \n",
      " 0   year       36808 non-null  int64  \n",
      " 1   country    36808 non-null  object \n",
      " 2   Age        36808 non-null  object \n",
      " 3   Cases      36808 non-null  float64\n",
      " 4   gender     36808 non-null  object \n",
      " 5   AGE        36808 non-null  object \n",
      " 6   diagnosis  36808 non-null  object \n",
      "dtypes: float64(1), int64(1), object(5)\n",
      "memory usage: 2.2+ MB\n"
     ]
    }
   ],
   "source": [
    "df_new.info()"
   ]
  },
  {
   "cell_type": "markdown",
   "metadata": {},
   "source": [
    "## Question 3: Create a graph that shows when countries started to report TB cases."
   ]
  },
  {
   "cell_type": "code",
   "execution_count": 25,
   "metadata": {},
   "outputs": [],
   "source": [
    "pop85Growth=pd.DataFrame(df_new.query(\"Cases>0\").groupby(['country',\"year\"])[\"Cases\"].sum())\n",
    "pop85Growth=(pop85Growth.reset_index(level=\"year\")\\\n",
    "    .groupby(level=\"country\")\\\n",
    "    .first()\\\n",
    "    .set_index([\"year\"], append=True))          #https://stackoverflow.com/questions/66663932/select-the-first-row-from-each-group-after-groupby-multiindex\n",
    "pop85Growth=pop85Growth.reset_index()"
   ]
  },
  {
   "cell_type": "code",
   "execution_count": 26,
   "metadata": {},
   "outputs": [
    {
     "data": {
      "text/html": [
       "<div>\n",
       "<style scoped>\n",
       "    .dataframe tbody tr th:only-of-type {\n",
       "        vertical-align: middle;\n",
       "    }\n",
       "\n",
       "    .dataframe tbody tr th {\n",
       "        vertical-align: top;\n",
       "    }\n",
       "\n",
       "    .dataframe thead th {\n",
       "        text-align: right;\n",
       "    }\n",
       "</style>\n",
       "<table border=\"1\" class=\"dataframe\">\n",
       "  <thead>\n",
       "    <tr style=\"text-align: right;\">\n",
       "      <th></th>\n",
       "      <th>country</th>\n",
       "      <th>year</th>\n",
       "      <th>Cases</th>\n",
       "    </tr>\n",
       "  </thead>\n",
       "  <tbody>\n",
       "    <tr>\n",
       "      <th>0</th>\n",
       "      <td>Afghanistan</td>\n",
       "      <td>1997</td>\n",
       "      <td>26.0</td>\n",
       "    </tr>\n",
       "    <tr>\n",
       "      <th>1</th>\n",
       "      <td>Albania</td>\n",
       "      <td>1995</td>\n",
       "      <td>89.0</td>\n",
       "    </tr>\n",
       "    <tr>\n",
       "      <th>2</th>\n",
       "      <td>Algeria</td>\n",
       "      <td>1997</td>\n",
       "      <td>5767.0</td>\n",
       "    </tr>\n",
       "    <tr>\n",
       "      <th>3</th>\n",
       "      <td>American Samoa</td>\n",
       "      <td>1997</td>\n",
       "      <td>5.0</td>\n",
       "    </tr>\n",
       "    <tr>\n",
       "      <th>4</th>\n",
       "      <td>Andorra</td>\n",
       "      <td>1996</td>\n",
       "      <td>5.0</td>\n",
       "    </tr>\n",
       "    <tr>\n",
       "      <th>...</th>\n",
       "      <td>...</td>\n",
       "      <td>...</td>\n",
       "      <td>...</td>\n",
       "    </tr>\n",
       "    <tr>\n",
       "      <th>212</th>\n",
       "      <td>Wallis and Futuna Islands</td>\n",
       "      <td>1996</td>\n",
       "      <td>2.0</td>\n",
       "    </tr>\n",
       "    <tr>\n",
       "      <th>213</th>\n",
       "      <td>West Bank and Gaza Strip</td>\n",
       "      <td>1995</td>\n",
       "      <td>7.0</td>\n",
       "    </tr>\n",
       "    <tr>\n",
       "      <th>214</th>\n",
       "      <td>Yemen</td>\n",
       "      <td>1995</td>\n",
       "      <td>1712.0</td>\n",
       "    </tr>\n",
       "    <tr>\n",
       "      <th>215</th>\n",
       "      <td>Zambia</td>\n",
       "      <td>1995</td>\n",
       "      <td>4390.0</td>\n",
       "    </tr>\n",
       "    <tr>\n",
       "      <th>216</th>\n",
       "      <td>Zimbabwe</td>\n",
       "      <td>2002</td>\n",
       "      <td>6219.0</td>\n",
       "    </tr>\n",
       "  </tbody>\n",
       "</table>\n",
       "<p>217 rows × 3 columns</p>\n",
       "</div>"
      ],
      "text/plain": [
       "                       country  year   Cases\n",
       "0                  Afghanistan  1997    26.0\n",
       "1                      Albania  1995    89.0\n",
       "2                      Algeria  1997  5767.0\n",
       "3               American Samoa  1997     5.0\n",
       "4                      Andorra  1996     5.0\n",
       "..                         ...   ...     ...\n",
       "212  Wallis and Futuna Islands  1996     2.0\n",
       "213   West Bank and Gaza Strip  1995     7.0\n",
       "214                      Yemen  1995  1712.0\n",
       "215                     Zambia  1995  4390.0\n",
       "216                   Zimbabwe  2002  6219.0\n",
       "\n",
       "[217 rows x 3 columns]"
      ]
     },
     "execution_count": 26,
     "metadata": {},
     "output_type": "execute_result"
    }
   ],
   "source": [
    "pop85Growth"
   ]
  },
  {
   "cell_type": "code",
   "execution_count": 61,
   "metadata": {},
   "outputs": [
    {
     "data": {
      "application/vnd.plotly.v1+json": {
       "config": {
        "plotlyServerURL": "https://plot.ly"
       },
       "data": [
        {
         "autocolorscale": false,
         "colorbar": {
          "ticksuffix": "K",
          "title": {
           "text": "Number of initial<br>TB Cases"
          }
         },
         "colorscale": [
          [
           0,
           "rgb(243, 231, 155)"
          ],
          [
           0.16666666666666666,
           "rgb(250, 196, 132)"
          ],
          [
           0.3333333333333333,
           "rgb(248, 160, 126)"
          ],
          [
           0.5,
           "rgb(235, 127, 134)"
          ],
          [
           0.6666666666666666,
           "rgb(206, 102, 147)"
          ],
          [
           0.8333333333333334,
           "rgb(160, 89, 160)"
          ],
          [
           1,
           "rgb(92, 83, 165)"
          ]
         ],
         "locationmode": "country names",
         "locations": [
          "Afghanistan",
          "Albania",
          "Algeria",
          "American Samoa",
          "Andorra",
          "Angola",
          "Anguilla",
          "Antigua and Barbuda",
          "Argentina",
          "Armenia",
          "Aruba",
          "Australia",
          "Austria",
          "Azerbaijan",
          "Bahamas",
          "Bahrain",
          "Bangladesh",
          "Barbados",
          "Belarus",
          "Belgium",
          "Belize",
          "Benin",
          "Bermuda",
          "Bhutan",
          "Bolivia (Plurinational State of)",
          "Bosnia and Herzegovina",
          "Botswana",
          "Brazil",
          "British Virgin Islands",
          "Brunei Darussalam",
          "Bulgaria",
          "Burkina Faso",
          "Burundi",
          "Cabo Verde",
          "Cambodia",
          "Cameroon",
          "Canada",
          "Cayman Islands",
          "Central African Republic",
          "Chad",
          "Chile",
          "China",
          "China, Hong Kong SAR",
          "China, Macao SAR",
          "Colombia",
          "Comoros",
          "Congo",
          "Cook Islands",
          "Costa Rica",
          "Cote d'Ivoire",
          "Croatia",
          "Cuba",
          "Curacao",
          "Cyprus",
          "Czech Republic",
          "Democratic People's Republic of Korea",
          "Democratic Republic of the Congo",
          "Denmark",
          "Djibouti",
          "Dominica",
          "Dominican Republic",
          "Ecuador",
          "Egypt",
          "El Salvador",
          "Equatorial Guinea",
          "Eritrea",
          "Estonia",
          "Ethiopia",
          "Fiji",
          "Finland",
          "France",
          "French Polynesia",
          "Gabon",
          "Gambia",
          "Georgia",
          "Germany",
          "Ghana",
          "Greece",
          "Greenland",
          "Grenada",
          "Guam",
          "Guatemala",
          "Guinea",
          "Guinea-Bissau",
          "Guyana",
          "Haiti",
          "Honduras",
          "Hungary",
          "Iceland",
          "India",
          "Indonesia",
          "Iran (Islamic Republic of)",
          "Iraq",
          "Ireland",
          "Israel",
          "Italy",
          "Jamaica",
          "Japan",
          "Jordan",
          "Kazakhstan",
          "Kenya",
          "Kiribati",
          "Kuwait",
          "Kyrgyzstan",
          "Lao People's Democratic Republic",
          "Latvia",
          "Lebanon",
          "Lesotho",
          "Liberia",
          "Libya",
          "Lithuania",
          "Luxembourg",
          "Madagascar",
          "Malawi",
          "Malaysia",
          "Maldives",
          "Mali",
          "Malta",
          "Marshall Islands",
          "Mauritania",
          "Mauritius",
          "Mexico",
          "Micronesia (Federated States of)",
          "Monaco",
          "Mongolia",
          "Montenegro",
          "Montserrat",
          "Morocco",
          "Mozambique",
          "Myanmar",
          "Namibia",
          "Nauru",
          "Nepal",
          "Netherlands",
          "Netherlands Antilles",
          "New Caledonia",
          "New Zealand",
          "Nicaragua",
          "Niger",
          "Nigeria",
          "Niue",
          "Northern Mariana Islands",
          "Norway",
          "Oman",
          "Pakistan",
          "Palau",
          "Panama",
          "Papua New Guinea",
          "Paraguay",
          "Peru",
          "Philippines",
          "Poland",
          "Portugal",
          "Puerto Rico",
          "Qatar",
          "Republic of Korea",
          "Republic of Moldova",
          "Romania",
          "Russian Federation",
          "Rwanda",
          "Saint Kitts and Nevis",
          "Saint Lucia",
          "Saint Vincent and the Grenadines",
          "Samoa",
          "San Marino",
          "Sao Tome and Principe",
          "Saudi Arabia",
          "Senegal",
          "Serbia",
          "Serbia & Montenegro",
          "Seychelles",
          "Sierra Leone",
          "Singapore",
          "Sint Maarten (Dutch part)",
          "Slovakia",
          "Slovenia",
          "Solomon Islands",
          "Somalia",
          "South Africa",
          "South Sudan",
          "Spain",
          "Sri Lanka",
          "Sudan",
          "Suriname",
          "Swaziland",
          "Sweden",
          "Switzerland",
          "Syrian Arab Republic",
          "Tajikistan",
          "Thailand",
          "The Former Yugoslav Republic of Macedonia",
          "Timor-Leste",
          "Togo",
          "Tonga",
          "Trinidad and Tobago",
          "Tunisia",
          "Turkey",
          "Turkmenistan",
          "Turks and Caicos Islands",
          "Tuvalu",
          "US Virgin Islands",
          "Uganda",
          "Ukraine",
          "United Arab Emirates",
          "United Kingdom of Great Britain and Northern Ireland",
          "United Republic of Tanzania",
          "United States of America",
          "Uruguay",
          "Uzbekistan",
          "Vanuatu",
          "Venezuela (Bolivarian Republic of)",
          "Viet Nam",
          "Wallis and Futuna Islands",
          "West Bank and Gaza Strip",
          "Yemen",
          "Zambia",
          "Zimbabwe"
         ],
         "marker": {
          "line": {
           "color": "darkgray",
           "width": 0.2
          }
         },
         "reversescale": true,
         "text": [
          1997,
          1995,
          1997,
          1997,
          1996,
          1995,
          2010,
          1996,
          1996,
          1995,
          2011,
          1997,
          1995,
          1995,
          1995,
          1995,
          1995,
          1996,
          2001,
          1995,
          1995,
          1995,
          2006,
          1995,
          1996,
          1995,
          1997,
          1999,
          2000,
          1999,
          2000,
          1995,
          1995,
          1997,
          1995,
          1995,
          1980,
          1998,
          1995,
          1999,
          1995,
          1995,
          1997,
          1995,
          1999,
          1995,
          1995,
          1980,
          1995,
          1995,
          1995,
          1995,
          2010,
          1995,
          1995,
          1997,
          1995,
          1995,
          1996,
          1996,
          1996,
          1998,
          1995,
          1996,
          1995,
          1997,
          1996,
          1995,
          1994,
          1995,
          1995,
          1996,
          1995,
          1995,
          1995,
          1995,
          1995,
          1997,
          2009,
          1997,
          2000,
          1995,
          1995,
          1996,
          1995,
          1996,
          1995,
          1996,
          1995,
          1995,
          1995,
          1995,
          1995,
          1998,
          1996,
          1995,
          1995,
          1995,
          1995,
          1997,
          1995,
          1996,
          1995,
          1995,
          1995,
          1995,
          1995,
          1995,
          1996,
          1995,
          1995,
          1996,
          1995,
          1995,
          1995,
          1995,
          1995,
          1995,
          1996,
          1997,
          1995,
          1996,
          1995,
          1999,
          1994,
          2005,
          2003,
          1995,
          1995,
          1995,
          1995,
          1999,
          1996,
          1995,
          1996,
          1995,
          1995,
          1995,
          1997,
          1995,
          1999,
          1995,
          1995,
          1995,
          1995,
          1995,
          1995,
          1996,
          1995,
          1995,
          1995,
          1995,
          1995,
          1995,
          1995,
          1995,
          1995,
          1995,
          1996,
          1996,
          1996,
          1997,
          1998,
          1995,
          2000,
          2000,
          1998,
          1995,
          2005,
          1995,
          1995,
          1995,
          1995,
          2010,
          1995,
          1995,
          1995,
          1995,
          1999,
          2011,
          1995,
          1995,
          1995,
          1996,
          1995,
          1995,
          1995,
          1995,
          1996,
          1995,
          1995,
          2002,
          1995,
          1995,
          1995,
          1998,
          2004,
          1995,
          2002,
          1995,
          1995,
          1995,
          1995,
          1999,
          1997,
          1995,
          1995,
          1995,
          1996,
          1995,
          1999,
          1996,
          1996,
          1995,
          1995,
          1995,
          2002
         ],
         "type": "choropleth",
         "z": [
          26,
          89,
          5767,
          5,
          5,
          2411,
          1,
          1,
          2389,
          65,
          6,
          109,
          451,
          67,
          26,
          10,
          4338,
          3,
          2,
          346,
          10,
          1227,
          1,
          215,
          4230,
          545,
          1635,
          24576,
          1,
          155,
          71,
          467,
          719,
          70,
          6222,
          1775,
          618,
          1,
          940,
          2086,
          1017,
          84410,
          1453,
          87,
          8329,
          59,
          1043,
          4,
          144,
          5638,
          802,
          568,
          3,
          6,
          348,
          2740,
          8324,
          89,
          1175,
          5,
          804,
          915,
          2921,
          534,
          138,
          57,
          181,
          3495,
          35,
          150,
          2326,
          23,
          301,
          465,
          147,
          2712,
          1664,
          208,
          36,
          1,
          39,
          1248,
          1505,
          586,
          48,
          1577,
          1490,
          775,
          1,
          1435,
          1451,
          4411,
          6515,
          76,
          104,
          934,
          62,
          9974,
          130,
          2813,
          8675,
          13,
          124,
          581,
          424,
          275,
          133,
          960,
          380,
          493,
          750,
          19,
          4627,
          3369,
          4587,
          74,
          1171,
          1,
          29,
          2045,
          102,
          4993,
          5,
          1,
          115,
          42,
          2,
          9204,
          6142,
          5531,
          498,
          2,
          6228,
          342,
          3,
          19,
          29,
          862,
          937,
          4836,
          1,
          26,
          38,
          55,
          1070,
          8,
          797,
          94,
          441,
          3499,
          281,
          2526,
          1454,
          82,
          52,
          7935,
          511,
          13101,
          235,
          1226,
          2,
          5,
          3,
          8,
          1,
          41,
          486,
          3764,
          679,
          1671,
          7,
          868,
          335,
          1,
          512,
          205,
          46,
          1825,
          5828,
          1742,
          1223,
          2200,
          3469,
          38,
          464,
          62,
          124,
          890,
          102,
          14521,
          190,
          596,
          571,
          4,
          56,
          797,
          226,
          309,
          1,
          3,
          2,
          7891,
          6574,
          33,
          498,
          12699,
          5629,
          244,
          1986,
          20,
          2279,
          32240,
          2,
          7,
          1712,
          4390,
          6219
         ]
        }
       ],
       "layout": {
        "geo": {
         "projection": {
          "type": "equirectangular"
         },
         "showcoastlines": false,
         "showframe": false
        },
        "template": {
         "data": {
          "bar": [
           {
            "error_x": {
             "color": "#2a3f5f"
            },
            "error_y": {
             "color": "#2a3f5f"
            },
            "marker": {
             "line": {
              "color": "#E5ECF6",
              "width": 0.5
             },
             "pattern": {
              "fillmode": "overlay",
              "size": 10,
              "solidity": 0.2
             }
            },
            "type": "bar"
           }
          ],
          "barpolar": [
           {
            "marker": {
             "line": {
              "color": "#E5ECF6",
              "width": 0.5
             },
             "pattern": {
              "fillmode": "overlay",
              "size": 10,
              "solidity": 0.2
             }
            },
            "type": "barpolar"
           }
          ],
          "carpet": [
           {
            "aaxis": {
             "endlinecolor": "#2a3f5f",
             "gridcolor": "white",
             "linecolor": "white",
             "minorgridcolor": "white",
             "startlinecolor": "#2a3f5f"
            },
            "baxis": {
             "endlinecolor": "#2a3f5f",
             "gridcolor": "white",
             "linecolor": "white",
             "minorgridcolor": "white",
             "startlinecolor": "#2a3f5f"
            },
            "type": "carpet"
           }
          ],
          "choropleth": [
           {
            "colorbar": {
             "outlinewidth": 0,
             "ticks": ""
            },
            "type": "choropleth"
           }
          ],
          "contour": [
           {
            "colorbar": {
             "outlinewidth": 0,
             "ticks": ""
            },
            "colorscale": [
             [
              0,
              "#0d0887"
             ],
             [
              0.1111111111111111,
              "#46039f"
             ],
             [
              0.2222222222222222,
              "#7201a8"
             ],
             [
              0.3333333333333333,
              "#9c179e"
             ],
             [
              0.4444444444444444,
              "#bd3786"
             ],
             [
              0.5555555555555556,
              "#d8576b"
             ],
             [
              0.6666666666666666,
              "#ed7953"
             ],
             [
              0.7777777777777778,
              "#fb9f3a"
             ],
             [
              0.8888888888888888,
              "#fdca26"
             ],
             [
              1,
              "#f0f921"
             ]
            ],
            "type": "contour"
           }
          ],
          "contourcarpet": [
           {
            "colorbar": {
             "outlinewidth": 0,
             "ticks": ""
            },
            "type": "contourcarpet"
           }
          ],
          "heatmap": [
           {
            "colorbar": {
             "outlinewidth": 0,
             "ticks": ""
            },
            "colorscale": [
             [
              0,
              "#0d0887"
             ],
             [
              0.1111111111111111,
              "#46039f"
             ],
             [
              0.2222222222222222,
              "#7201a8"
             ],
             [
              0.3333333333333333,
              "#9c179e"
             ],
             [
              0.4444444444444444,
              "#bd3786"
             ],
             [
              0.5555555555555556,
              "#d8576b"
             ],
             [
              0.6666666666666666,
              "#ed7953"
             ],
             [
              0.7777777777777778,
              "#fb9f3a"
             ],
             [
              0.8888888888888888,
              "#fdca26"
             ],
             [
              1,
              "#f0f921"
             ]
            ],
            "type": "heatmap"
           }
          ],
          "heatmapgl": [
           {
            "colorbar": {
             "outlinewidth": 0,
             "ticks": ""
            },
            "colorscale": [
             [
              0,
              "#0d0887"
             ],
             [
              0.1111111111111111,
              "#46039f"
             ],
             [
              0.2222222222222222,
              "#7201a8"
             ],
             [
              0.3333333333333333,
              "#9c179e"
             ],
             [
              0.4444444444444444,
              "#bd3786"
             ],
             [
              0.5555555555555556,
              "#d8576b"
             ],
             [
              0.6666666666666666,
              "#ed7953"
             ],
             [
              0.7777777777777778,
              "#fb9f3a"
             ],
             [
              0.8888888888888888,
              "#fdca26"
             ],
             [
              1,
              "#f0f921"
             ]
            ],
            "type": "heatmapgl"
           }
          ],
          "histogram": [
           {
            "marker": {
             "pattern": {
              "fillmode": "overlay",
              "size": 10,
              "solidity": 0.2
             }
            },
            "type": "histogram"
           }
          ],
          "histogram2d": [
           {
            "colorbar": {
             "outlinewidth": 0,
             "ticks": ""
            },
            "colorscale": [
             [
              0,
              "#0d0887"
             ],
             [
              0.1111111111111111,
              "#46039f"
             ],
             [
              0.2222222222222222,
              "#7201a8"
             ],
             [
              0.3333333333333333,
              "#9c179e"
             ],
             [
              0.4444444444444444,
              "#bd3786"
             ],
             [
              0.5555555555555556,
              "#d8576b"
             ],
             [
              0.6666666666666666,
              "#ed7953"
             ],
             [
              0.7777777777777778,
              "#fb9f3a"
             ],
             [
              0.8888888888888888,
              "#fdca26"
             ],
             [
              1,
              "#f0f921"
             ]
            ],
            "type": "histogram2d"
           }
          ],
          "histogram2dcontour": [
           {
            "colorbar": {
             "outlinewidth": 0,
             "ticks": ""
            },
            "colorscale": [
             [
              0,
              "#0d0887"
             ],
             [
              0.1111111111111111,
              "#46039f"
             ],
             [
              0.2222222222222222,
              "#7201a8"
             ],
             [
              0.3333333333333333,
              "#9c179e"
             ],
             [
              0.4444444444444444,
              "#bd3786"
             ],
             [
              0.5555555555555556,
              "#d8576b"
             ],
             [
              0.6666666666666666,
              "#ed7953"
             ],
             [
              0.7777777777777778,
              "#fb9f3a"
             ],
             [
              0.8888888888888888,
              "#fdca26"
             ],
             [
              1,
              "#f0f921"
             ]
            ],
            "type": "histogram2dcontour"
           }
          ],
          "mesh3d": [
           {
            "colorbar": {
             "outlinewidth": 0,
             "ticks": ""
            },
            "type": "mesh3d"
           }
          ],
          "parcoords": [
           {
            "line": {
             "colorbar": {
              "outlinewidth": 0,
              "ticks": ""
             }
            },
            "type": "parcoords"
           }
          ],
          "pie": [
           {
            "automargin": true,
            "type": "pie"
           }
          ],
          "scatter": [
           {
            "fillpattern": {
             "fillmode": "overlay",
             "size": 10,
             "solidity": 0.2
            },
            "type": "scatter"
           }
          ],
          "scatter3d": [
           {
            "line": {
             "colorbar": {
              "outlinewidth": 0,
              "ticks": ""
             }
            },
            "marker": {
             "colorbar": {
              "outlinewidth": 0,
              "ticks": ""
             }
            },
            "type": "scatter3d"
           }
          ],
          "scattercarpet": [
           {
            "marker": {
             "colorbar": {
              "outlinewidth": 0,
              "ticks": ""
             }
            },
            "type": "scattercarpet"
           }
          ],
          "scattergeo": [
           {
            "marker": {
             "colorbar": {
              "outlinewidth": 0,
              "ticks": ""
             }
            },
            "type": "scattergeo"
           }
          ],
          "scattergl": [
           {
            "marker": {
             "colorbar": {
              "outlinewidth": 0,
              "ticks": ""
             }
            },
            "type": "scattergl"
           }
          ],
          "scattermapbox": [
           {
            "marker": {
             "colorbar": {
              "outlinewidth": 0,
              "ticks": ""
             }
            },
            "type": "scattermapbox"
           }
          ],
          "scatterpolar": [
           {
            "marker": {
             "colorbar": {
              "outlinewidth": 0,
              "ticks": ""
             }
            },
            "type": "scatterpolar"
           }
          ],
          "scatterpolargl": [
           {
            "marker": {
             "colorbar": {
              "outlinewidth": 0,
              "ticks": ""
             }
            },
            "type": "scatterpolargl"
           }
          ],
          "scatterternary": [
           {
            "marker": {
             "colorbar": {
              "outlinewidth": 0,
              "ticks": ""
             }
            },
            "type": "scatterternary"
           }
          ],
          "surface": [
           {
            "colorbar": {
             "outlinewidth": 0,
             "ticks": ""
            },
            "colorscale": [
             [
              0,
              "#0d0887"
             ],
             [
              0.1111111111111111,
              "#46039f"
             ],
             [
              0.2222222222222222,
              "#7201a8"
             ],
             [
              0.3333333333333333,
              "#9c179e"
             ],
             [
              0.4444444444444444,
              "#bd3786"
             ],
             [
              0.5555555555555556,
              "#d8576b"
             ],
             [
              0.6666666666666666,
              "#ed7953"
             ],
             [
              0.7777777777777778,
              "#fb9f3a"
             ],
             [
              0.8888888888888888,
              "#fdca26"
             ],
             [
              1,
              "#f0f921"
             ]
            ],
            "type": "surface"
           }
          ],
          "table": [
           {
            "cells": {
             "fill": {
              "color": "#EBF0F8"
             },
             "line": {
              "color": "white"
             }
            },
            "header": {
             "fill": {
              "color": "#C8D4E3"
             },
             "line": {
              "color": "white"
             }
            },
            "type": "table"
           }
          ]
         },
         "layout": {
          "annotationdefaults": {
           "arrowcolor": "#2a3f5f",
           "arrowhead": 0,
           "arrowwidth": 1
          },
          "autotypenumbers": "strict",
          "coloraxis": {
           "colorbar": {
            "outlinewidth": 0,
            "ticks": ""
           }
          },
          "colorscale": {
           "diverging": [
            [
             0,
             "#8e0152"
            ],
            [
             0.1,
             "#c51b7d"
            ],
            [
             0.2,
             "#de77ae"
            ],
            [
             0.3,
             "#f1b6da"
            ],
            [
             0.4,
             "#fde0ef"
            ],
            [
             0.5,
             "#f7f7f7"
            ],
            [
             0.6,
             "#e6f5d0"
            ],
            [
             0.7,
             "#b8e186"
            ],
            [
             0.8,
             "#7fbc41"
            ],
            [
             0.9,
             "#4d9221"
            ],
            [
             1,
             "#276419"
            ]
           ],
           "sequential": [
            [
             0,
             "#0d0887"
            ],
            [
             0.1111111111111111,
             "#46039f"
            ],
            [
             0.2222222222222222,
             "#7201a8"
            ],
            [
             0.3333333333333333,
             "#9c179e"
            ],
            [
             0.4444444444444444,
             "#bd3786"
            ],
            [
             0.5555555555555556,
             "#d8576b"
            ],
            [
             0.6666666666666666,
             "#ed7953"
            ],
            [
             0.7777777777777778,
             "#fb9f3a"
            ],
            [
             0.8888888888888888,
             "#fdca26"
            ],
            [
             1,
             "#f0f921"
            ]
           ],
           "sequentialminus": [
            [
             0,
             "#0d0887"
            ],
            [
             0.1111111111111111,
             "#46039f"
            ],
            [
             0.2222222222222222,
             "#7201a8"
            ],
            [
             0.3333333333333333,
             "#9c179e"
            ],
            [
             0.4444444444444444,
             "#bd3786"
            ],
            [
             0.5555555555555556,
             "#d8576b"
            ],
            [
             0.6666666666666666,
             "#ed7953"
            ],
            [
             0.7777777777777778,
             "#fb9f3a"
            ],
            [
             0.8888888888888888,
             "#fdca26"
            ],
            [
             1,
             "#f0f921"
            ]
           ]
          },
          "colorway": [
           "#636efa",
           "#EF553B",
           "#00cc96",
           "#ab63fa",
           "#FFA15A",
           "#19d3f3",
           "#FF6692",
           "#B6E880",
           "#FF97FF",
           "#FECB52"
          ],
          "font": {
           "color": "#2a3f5f"
          },
          "geo": {
           "bgcolor": "white",
           "lakecolor": "white",
           "landcolor": "#E5ECF6",
           "showlakes": true,
           "showland": true,
           "subunitcolor": "white"
          },
          "hoverlabel": {
           "align": "left"
          },
          "hovermode": "closest",
          "mapbox": {
           "style": "light"
          },
          "paper_bgcolor": "white",
          "plot_bgcolor": "#E5ECF6",
          "polar": {
           "angularaxis": {
            "gridcolor": "white",
            "linecolor": "white",
            "ticks": ""
           },
           "bgcolor": "#E5ECF6",
           "radialaxis": {
            "gridcolor": "white",
            "linecolor": "white",
            "ticks": ""
           }
          },
          "scene": {
           "xaxis": {
            "backgroundcolor": "#E5ECF6",
            "gridcolor": "white",
            "gridwidth": 2,
            "linecolor": "white",
            "showbackground": true,
            "ticks": "",
            "zerolinecolor": "white"
           },
           "yaxis": {
            "backgroundcolor": "#E5ECF6",
            "gridcolor": "white",
            "gridwidth": 2,
            "linecolor": "white",
            "showbackground": true,
            "ticks": "",
            "zerolinecolor": "white"
           },
           "zaxis": {
            "backgroundcolor": "#E5ECF6",
            "gridcolor": "white",
            "gridwidth": 2,
            "linecolor": "white",
            "showbackground": true,
            "ticks": "",
            "zerolinecolor": "white"
           }
          },
          "shapedefaults": {
           "line": {
            "color": "#2a3f5f"
           }
          },
          "ternary": {
           "aaxis": {
            "gridcolor": "white",
            "linecolor": "white",
            "ticks": ""
           },
           "baxis": {
            "gridcolor": "white",
            "linecolor": "white",
            "ticks": ""
           },
           "bgcolor": "#E5ECF6",
           "caxis": {
            "gridcolor": "white",
            "linecolor": "white",
            "ticks": ""
           }
          },
          "title": {
           "x": 0.05
          },
          "xaxis": {
           "automargin": true,
           "gridcolor": "white",
           "linecolor": "white",
           "ticks": "",
           "title": {
            "standoff": 15
           },
           "zerolinecolor": "white",
           "zerolinewidth": 2
          },
          "yaxis": {
           "automargin": true,
           "gridcolor": "white",
           "linecolor": "white",
           "ticks": "",
           "title": {
            "standoff": 15
           },
           "zerolinecolor": "white",
           "zerolinewidth": 2
          }
         }
        },
        "title": {
         "text": "Depicts the onset of TB cases based on Location and Year"
        }
       }
      },
      "text/html": [
       "<div>                            <div id=\"c7db5ab4-23a7-4967-8dfe-fef17d5fe48e\" class=\"plotly-graph-div\" style=\"height:525px; width:100%;\"></div>            <script type=\"text/javascript\">                require([\"plotly\"], function(Plotly) {                    window.PLOTLYENV=window.PLOTLYENV || {};                                    if (document.getElementById(\"c7db5ab4-23a7-4967-8dfe-fef17d5fe48e\")) {                    Plotly.newPlot(                        \"c7db5ab4-23a7-4967-8dfe-fef17d5fe48e\",                        [{\"autocolorscale\":false,\"colorbar\":{\"ticksuffix\":\"K\",\"title\":{\"text\":\"Number of initial<br>TB Cases\"}},\"colorscale\":[[0.0,\"rgb(243, 231, 155)\"],[0.16666666666666666,\"rgb(250, 196, 132)\"],[0.3333333333333333,\"rgb(248, 160, 126)\"],[0.5,\"rgb(235, 127, 134)\"],[0.6666666666666666,\"rgb(206, 102, 147)\"],[0.8333333333333334,\"rgb(160, 89, 160)\"],[1.0,\"rgb(92, 83, 165)\"]],\"locationmode\":\"country names\",\"locations\":[\"Afghanistan\",\"Albania\",\"Algeria\",\"American Samoa\",\"Andorra\",\"Angola\",\"Anguilla\",\"Antigua and Barbuda\",\"Argentina\",\"Armenia\",\"Aruba\",\"Australia\",\"Austria\",\"Azerbaijan\",\"Bahamas\",\"Bahrain\",\"Bangladesh\",\"Barbados\",\"Belarus\",\"Belgium\",\"Belize\",\"Benin\",\"Bermuda\",\"Bhutan\",\"Bolivia (Plurinational State of)\",\"Bosnia and Herzegovina\",\"Botswana\",\"Brazil\",\"British Virgin Islands\",\"Brunei Darussalam\",\"Bulgaria\",\"Burkina Faso\",\"Burundi\",\"Cabo Verde\",\"Cambodia\",\"Cameroon\",\"Canada\",\"Cayman Islands\",\"Central African Republic\",\"Chad\",\"Chile\",\"China\",\"China, Hong Kong SAR\",\"China, Macao SAR\",\"Colombia\",\"Comoros\",\"Congo\",\"Cook Islands\",\"Costa Rica\",\"Cote d'Ivoire\",\"Croatia\",\"Cuba\",\"Curacao\",\"Cyprus\",\"Czech Republic\",\"Democratic People's Republic of Korea\",\"Democratic Republic of the Congo\",\"Denmark\",\"Djibouti\",\"Dominica\",\"Dominican Republic\",\"Ecuador\",\"Egypt\",\"El Salvador\",\"Equatorial Guinea\",\"Eritrea\",\"Estonia\",\"Ethiopia\",\"Fiji\",\"Finland\",\"France\",\"French Polynesia\",\"Gabon\",\"Gambia\",\"Georgia\",\"Germany\",\"Ghana\",\"Greece\",\"Greenland\",\"Grenada\",\"Guam\",\"Guatemala\",\"Guinea\",\"Guinea-Bissau\",\"Guyana\",\"Haiti\",\"Honduras\",\"Hungary\",\"Iceland\",\"India\",\"Indonesia\",\"Iran (Islamic Republic of)\",\"Iraq\",\"Ireland\",\"Israel\",\"Italy\",\"Jamaica\",\"Japan\",\"Jordan\",\"Kazakhstan\",\"Kenya\",\"Kiribati\",\"Kuwait\",\"Kyrgyzstan\",\"Lao People's Democratic Republic\",\"Latvia\",\"Lebanon\",\"Lesotho\",\"Liberia\",\"Libya\",\"Lithuania\",\"Luxembourg\",\"Madagascar\",\"Malawi\",\"Malaysia\",\"Maldives\",\"Mali\",\"Malta\",\"Marshall Islands\",\"Mauritania\",\"Mauritius\",\"Mexico\",\"Micronesia (Federated States of)\",\"Monaco\",\"Mongolia\",\"Montenegro\",\"Montserrat\",\"Morocco\",\"Mozambique\",\"Myanmar\",\"Namibia\",\"Nauru\",\"Nepal\",\"Netherlands\",\"Netherlands Antilles\",\"New Caledonia\",\"New Zealand\",\"Nicaragua\",\"Niger\",\"Nigeria\",\"Niue\",\"Northern Mariana Islands\",\"Norway\",\"Oman\",\"Pakistan\",\"Palau\",\"Panama\",\"Papua New Guinea\",\"Paraguay\",\"Peru\",\"Philippines\",\"Poland\",\"Portugal\",\"Puerto Rico\",\"Qatar\",\"Republic of Korea\",\"Republic of Moldova\",\"Romania\",\"Russian Federation\",\"Rwanda\",\"Saint Kitts and Nevis\",\"Saint Lucia\",\"Saint Vincent and the Grenadines\",\"Samoa\",\"San Marino\",\"Sao Tome and Principe\",\"Saudi Arabia\",\"Senegal\",\"Serbia\",\"Serbia & Montenegro\",\"Seychelles\",\"Sierra Leone\",\"Singapore\",\"Sint Maarten (Dutch part)\",\"Slovakia\",\"Slovenia\",\"Solomon Islands\",\"Somalia\",\"South Africa\",\"South Sudan\",\"Spain\",\"Sri Lanka\",\"Sudan\",\"Suriname\",\"Swaziland\",\"Sweden\",\"Switzerland\",\"Syrian Arab Republic\",\"Tajikistan\",\"Thailand\",\"The Former Yugoslav Republic of Macedonia\",\"Timor-Leste\",\"Togo\",\"Tonga\",\"Trinidad and Tobago\",\"Tunisia\",\"Turkey\",\"Turkmenistan\",\"Turks and Caicos Islands\",\"Tuvalu\",\"US Virgin Islands\",\"Uganda\",\"Ukraine\",\"United Arab Emirates\",\"United Kingdom of Great Britain and Northern Ireland\",\"United Republic of Tanzania\",\"United States of America\",\"Uruguay\",\"Uzbekistan\",\"Vanuatu\",\"Venezuela (Bolivarian Republic of)\",\"Viet Nam\",\"Wallis and Futuna Islands\",\"West Bank and Gaza Strip\",\"Yemen\",\"Zambia\",\"Zimbabwe\"],\"marker\":{\"line\":{\"color\":\"darkgray\",\"width\":0.2}},\"reversescale\":true,\"text\":[1997.0,1995.0,1997.0,1997.0,1996.0,1995.0,2010.0,1996.0,1996.0,1995.0,2011.0,1997.0,1995.0,1995.0,1995.0,1995.0,1995.0,1996.0,2001.0,1995.0,1995.0,1995.0,2006.0,1995.0,1996.0,1995.0,1997.0,1999.0,2000.0,1999.0,2000.0,1995.0,1995.0,1997.0,1995.0,1995.0,1980.0,1998.0,1995.0,1999.0,1995.0,1995.0,1997.0,1995.0,1999.0,1995.0,1995.0,1980.0,1995.0,1995.0,1995.0,1995.0,2010.0,1995.0,1995.0,1997.0,1995.0,1995.0,1996.0,1996.0,1996.0,1998.0,1995.0,1996.0,1995.0,1997.0,1996.0,1995.0,1994.0,1995.0,1995.0,1996.0,1995.0,1995.0,1995.0,1995.0,1995.0,1997.0,2009.0,1997.0,2000.0,1995.0,1995.0,1996.0,1995.0,1996.0,1995.0,1996.0,1995.0,1995.0,1995.0,1995.0,1995.0,1998.0,1996.0,1995.0,1995.0,1995.0,1995.0,1997.0,1995.0,1996.0,1995.0,1995.0,1995.0,1995.0,1995.0,1995.0,1996.0,1995.0,1995.0,1996.0,1995.0,1995.0,1995.0,1995.0,1995.0,1995.0,1996.0,1997.0,1995.0,1996.0,1995.0,1999.0,1994.0,2005.0,2003.0,1995.0,1995.0,1995.0,1995.0,1999.0,1996.0,1995.0,1996.0,1995.0,1995.0,1995.0,1997.0,1995.0,1999.0,1995.0,1995.0,1995.0,1995.0,1995.0,1995.0,1996.0,1995.0,1995.0,1995.0,1995.0,1995.0,1995.0,1995.0,1995.0,1995.0,1995.0,1996.0,1996.0,1996.0,1997.0,1998.0,1995.0,2000.0,2000.0,1998.0,1995.0,2005.0,1995.0,1995.0,1995.0,1995.0,2010.0,1995.0,1995.0,1995.0,1995.0,1999.0,2011.0,1995.0,1995.0,1995.0,1996.0,1995.0,1995.0,1995.0,1995.0,1996.0,1995.0,1995.0,2002.0,1995.0,1995.0,1995.0,1998.0,2004.0,1995.0,2002.0,1995.0,1995.0,1995.0,1995.0,1999.0,1997.0,1995.0,1995.0,1995.0,1996.0,1995.0,1999.0,1996.0,1996.0,1995.0,1995.0,1995.0,2002.0],\"z\":[26.0,89.0,5767.0,5.0,5.0,2411.0,1.0,1.0,2389.0,65.0,6.0,109.0,451.0,67.0,26.0,10.0,4338.0,3.0,2.0,346.0,10.0,1227.0,1.0,215.0,4230.0,545.0,1635.0,24576.0,1.0,155.0,71.0,467.0,719.0,70.0,6222.0,1775.0,618.0,1.0,940.0,2086.0,1017.0,84410.0,1453.0,87.0,8329.0,59.0,1043.0,4.0,144.0,5638.0,802.0,568.0,3.0,6.0,348.0,2740.0,8324.0,89.0,1175.0,5.0,804.0,915.0,2921.0,534.0,138.0,57.0,181.0,3495.0,35.0,150.0,2326.0,23.0,301.0,465.0,147.0,2712.0,1664.0,208.0,36.0,1.0,39.0,1248.0,1505.0,586.0,48.0,1577.0,1490.0,775.0,1.0,1435.0,1451.0,4411.0,6515.0,76.0,104.0,934.0,62.0,9974.0,130.0,2813.0,8675.0,13.0,124.0,581.0,424.0,275.0,133.0,960.0,380.0,493.0,750.0,19.0,4627.0,3369.0,4587.0,74.0,1171.0,1.0,29.0,2045.0,102.0,4993.0,5.0,1.0,115.0,42.0,2.0,9204.0,6142.0,5531.0,498.0,2.0,6228.0,342.0,3.0,19.0,29.0,862.0,937.0,4836.0,1.0,26.0,38.0,55.0,1070.0,8.0,797.0,94.0,441.0,3499.0,281.0,2526.0,1454.0,82.0,52.0,7935.0,511.0,13101.0,235.0,1226.0,2.0,5.0,3.0,8.0,1.0,41.0,486.0,3764.0,679.0,1671.0,7.0,868.0,335.0,1.0,512.0,205.0,46.0,1825.0,5828.0,1742.0,1223.0,2200.0,3469.0,38.0,464.0,62.0,124.0,890.0,102.0,14521.0,190.0,596.0,571.0,4.0,56.0,797.0,226.0,309.0,1.0,3.0,2.0,7891.0,6574.0,33.0,498.0,12699.0,5629.0,244.0,1986.0,20.0,2279.0,32240.0,2.0,7.0,1712.0,4390.0,6219.0],\"type\":\"choropleth\"}],                        {\"template\":{\"data\":{\"histogram2dcontour\":[{\"type\":\"histogram2dcontour\",\"colorbar\":{\"outlinewidth\":0,\"ticks\":\"\"},\"colorscale\":[[0.0,\"#0d0887\"],[0.1111111111111111,\"#46039f\"],[0.2222222222222222,\"#7201a8\"],[0.3333333333333333,\"#9c179e\"],[0.4444444444444444,\"#bd3786\"],[0.5555555555555556,\"#d8576b\"],[0.6666666666666666,\"#ed7953\"],[0.7777777777777778,\"#fb9f3a\"],[0.8888888888888888,\"#fdca26\"],[1.0,\"#f0f921\"]]}],\"choropleth\":[{\"type\":\"choropleth\",\"colorbar\":{\"outlinewidth\":0,\"ticks\":\"\"}}],\"histogram2d\":[{\"type\":\"histogram2d\",\"colorbar\":{\"outlinewidth\":0,\"ticks\":\"\"},\"colorscale\":[[0.0,\"#0d0887\"],[0.1111111111111111,\"#46039f\"],[0.2222222222222222,\"#7201a8\"],[0.3333333333333333,\"#9c179e\"],[0.4444444444444444,\"#bd3786\"],[0.5555555555555556,\"#d8576b\"],[0.6666666666666666,\"#ed7953\"],[0.7777777777777778,\"#fb9f3a\"],[0.8888888888888888,\"#fdca26\"],[1.0,\"#f0f921\"]]}],\"heatmap\":[{\"type\":\"heatmap\",\"colorbar\":{\"outlinewidth\":0,\"ticks\":\"\"},\"colorscale\":[[0.0,\"#0d0887\"],[0.1111111111111111,\"#46039f\"],[0.2222222222222222,\"#7201a8\"],[0.3333333333333333,\"#9c179e\"],[0.4444444444444444,\"#bd3786\"],[0.5555555555555556,\"#d8576b\"],[0.6666666666666666,\"#ed7953\"],[0.7777777777777778,\"#fb9f3a\"],[0.8888888888888888,\"#fdca26\"],[1.0,\"#f0f921\"]]}],\"heatmapgl\":[{\"type\":\"heatmapgl\",\"colorbar\":{\"outlinewidth\":0,\"ticks\":\"\"},\"colorscale\":[[0.0,\"#0d0887\"],[0.1111111111111111,\"#46039f\"],[0.2222222222222222,\"#7201a8\"],[0.3333333333333333,\"#9c179e\"],[0.4444444444444444,\"#bd3786\"],[0.5555555555555556,\"#d8576b\"],[0.6666666666666666,\"#ed7953\"],[0.7777777777777778,\"#fb9f3a\"],[0.8888888888888888,\"#fdca26\"],[1.0,\"#f0f921\"]]}],\"contourcarpet\":[{\"type\":\"contourcarpet\",\"colorbar\":{\"outlinewidth\":0,\"ticks\":\"\"}}],\"contour\":[{\"type\":\"contour\",\"colorbar\":{\"outlinewidth\":0,\"ticks\":\"\"},\"colorscale\":[[0.0,\"#0d0887\"],[0.1111111111111111,\"#46039f\"],[0.2222222222222222,\"#7201a8\"],[0.3333333333333333,\"#9c179e\"],[0.4444444444444444,\"#bd3786\"],[0.5555555555555556,\"#d8576b\"],[0.6666666666666666,\"#ed7953\"],[0.7777777777777778,\"#fb9f3a\"],[0.8888888888888888,\"#fdca26\"],[1.0,\"#f0f921\"]]}],\"surface\":[{\"type\":\"surface\",\"colorbar\":{\"outlinewidth\":0,\"ticks\":\"\"},\"colorscale\":[[0.0,\"#0d0887\"],[0.1111111111111111,\"#46039f\"],[0.2222222222222222,\"#7201a8\"],[0.3333333333333333,\"#9c179e\"],[0.4444444444444444,\"#bd3786\"],[0.5555555555555556,\"#d8576b\"],[0.6666666666666666,\"#ed7953\"],[0.7777777777777778,\"#fb9f3a\"],[0.8888888888888888,\"#fdca26\"],[1.0,\"#f0f921\"]]}],\"mesh3d\":[{\"type\":\"mesh3d\",\"colorbar\":{\"outlinewidth\":0,\"ticks\":\"\"}}],\"scatter\":[{\"fillpattern\":{\"fillmode\":\"overlay\",\"size\":10,\"solidity\":0.2},\"type\":\"scatter\"}],\"parcoords\":[{\"type\":\"parcoords\",\"line\":{\"colorbar\":{\"outlinewidth\":0,\"ticks\":\"\"}}}],\"scatterpolargl\":[{\"type\":\"scatterpolargl\",\"marker\":{\"colorbar\":{\"outlinewidth\":0,\"ticks\":\"\"}}}],\"bar\":[{\"error_x\":{\"color\":\"#2a3f5f\"},\"error_y\":{\"color\":\"#2a3f5f\"},\"marker\":{\"line\":{\"color\":\"#E5ECF6\",\"width\":0.5},\"pattern\":{\"fillmode\":\"overlay\",\"size\":10,\"solidity\":0.2}},\"type\":\"bar\"}],\"scattergeo\":[{\"type\":\"scattergeo\",\"marker\":{\"colorbar\":{\"outlinewidth\":0,\"ticks\":\"\"}}}],\"scatterpolar\":[{\"type\":\"scatterpolar\",\"marker\":{\"colorbar\":{\"outlinewidth\":0,\"ticks\":\"\"}}}],\"histogram\":[{\"marker\":{\"pattern\":{\"fillmode\":\"overlay\",\"size\":10,\"solidity\":0.2}},\"type\":\"histogram\"}],\"scattergl\":[{\"type\":\"scattergl\",\"marker\":{\"colorbar\":{\"outlinewidth\":0,\"ticks\":\"\"}}}],\"scatter3d\":[{\"type\":\"scatter3d\",\"line\":{\"colorbar\":{\"outlinewidth\":0,\"ticks\":\"\"}},\"marker\":{\"colorbar\":{\"outlinewidth\":0,\"ticks\":\"\"}}}],\"scattermapbox\":[{\"type\":\"scattermapbox\",\"marker\":{\"colorbar\":{\"outlinewidth\":0,\"ticks\":\"\"}}}],\"scatterternary\":[{\"type\":\"scatterternary\",\"marker\":{\"colorbar\":{\"outlinewidth\":0,\"ticks\":\"\"}}}],\"scattercarpet\":[{\"type\":\"scattercarpet\",\"marker\":{\"colorbar\":{\"outlinewidth\":0,\"ticks\":\"\"}}}],\"carpet\":[{\"aaxis\":{\"endlinecolor\":\"#2a3f5f\",\"gridcolor\":\"white\",\"linecolor\":\"white\",\"minorgridcolor\":\"white\",\"startlinecolor\":\"#2a3f5f\"},\"baxis\":{\"endlinecolor\":\"#2a3f5f\",\"gridcolor\":\"white\",\"linecolor\":\"white\",\"minorgridcolor\":\"white\",\"startlinecolor\":\"#2a3f5f\"},\"type\":\"carpet\"}],\"table\":[{\"cells\":{\"fill\":{\"color\":\"#EBF0F8\"},\"line\":{\"color\":\"white\"}},\"header\":{\"fill\":{\"color\":\"#C8D4E3\"},\"line\":{\"color\":\"white\"}},\"type\":\"table\"}],\"barpolar\":[{\"marker\":{\"line\":{\"color\":\"#E5ECF6\",\"width\":0.5},\"pattern\":{\"fillmode\":\"overlay\",\"size\":10,\"solidity\":0.2}},\"type\":\"barpolar\"}],\"pie\":[{\"automargin\":true,\"type\":\"pie\"}]},\"layout\":{\"autotypenumbers\":\"strict\",\"colorway\":[\"#636efa\",\"#EF553B\",\"#00cc96\",\"#ab63fa\",\"#FFA15A\",\"#19d3f3\",\"#FF6692\",\"#B6E880\",\"#FF97FF\",\"#FECB52\"],\"font\":{\"color\":\"#2a3f5f\"},\"hovermode\":\"closest\",\"hoverlabel\":{\"align\":\"left\"},\"paper_bgcolor\":\"white\",\"plot_bgcolor\":\"#E5ECF6\",\"polar\":{\"bgcolor\":\"#E5ECF6\",\"angularaxis\":{\"gridcolor\":\"white\",\"linecolor\":\"white\",\"ticks\":\"\"},\"radialaxis\":{\"gridcolor\":\"white\",\"linecolor\":\"white\",\"ticks\":\"\"}},\"ternary\":{\"bgcolor\":\"#E5ECF6\",\"aaxis\":{\"gridcolor\":\"white\",\"linecolor\":\"white\",\"ticks\":\"\"},\"baxis\":{\"gridcolor\":\"white\",\"linecolor\":\"white\",\"ticks\":\"\"},\"caxis\":{\"gridcolor\":\"white\",\"linecolor\":\"white\",\"ticks\":\"\"}},\"coloraxis\":{\"colorbar\":{\"outlinewidth\":0,\"ticks\":\"\"}},\"colorscale\":{\"sequential\":[[0.0,\"#0d0887\"],[0.1111111111111111,\"#46039f\"],[0.2222222222222222,\"#7201a8\"],[0.3333333333333333,\"#9c179e\"],[0.4444444444444444,\"#bd3786\"],[0.5555555555555556,\"#d8576b\"],[0.6666666666666666,\"#ed7953\"],[0.7777777777777778,\"#fb9f3a\"],[0.8888888888888888,\"#fdca26\"],[1.0,\"#f0f921\"]],\"sequentialminus\":[[0.0,\"#0d0887\"],[0.1111111111111111,\"#46039f\"],[0.2222222222222222,\"#7201a8\"],[0.3333333333333333,\"#9c179e\"],[0.4444444444444444,\"#bd3786\"],[0.5555555555555556,\"#d8576b\"],[0.6666666666666666,\"#ed7953\"],[0.7777777777777778,\"#fb9f3a\"],[0.8888888888888888,\"#fdca26\"],[1.0,\"#f0f921\"]],\"diverging\":[[0,\"#8e0152\"],[0.1,\"#c51b7d\"],[0.2,\"#de77ae\"],[0.3,\"#f1b6da\"],[0.4,\"#fde0ef\"],[0.5,\"#f7f7f7\"],[0.6,\"#e6f5d0\"],[0.7,\"#b8e186\"],[0.8,\"#7fbc41\"],[0.9,\"#4d9221\"],[1,\"#276419\"]]},\"xaxis\":{\"gridcolor\":\"white\",\"linecolor\":\"white\",\"ticks\":\"\",\"title\":{\"standoff\":15},\"zerolinecolor\":\"white\",\"automargin\":true,\"zerolinewidth\":2},\"yaxis\":{\"gridcolor\":\"white\",\"linecolor\":\"white\",\"ticks\":\"\",\"title\":{\"standoff\":15},\"zerolinecolor\":\"white\",\"automargin\":true,\"zerolinewidth\":2},\"scene\":{\"xaxis\":{\"backgroundcolor\":\"#E5ECF6\",\"gridcolor\":\"white\",\"linecolor\":\"white\",\"showbackground\":true,\"ticks\":\"\",\"zerolinecolor\":\"white\",\"gridwidth\":2},\"yaxis\":{\"backgroundcolor\":\"#E5ECF6\",\"gridcolor\":\"white\",\"linecolor\":\"white\",\"showbackground\":true,\"ticks\":\"\",\"zerolinecolor\":\"white\",\"gridwidth\":2},\"zaxis\":{\"backgroundcolor\":\"#E5ECF6\",\"gridcolor\":\"white\",\"linecolor\":\"white\",\"showbackground\":true,\"ticks\":\"\",\"zerolinecolor\":\"white\",\"gridwidth\":2}},\"shapedefaults\":{\"line\":{\"color\":\"#2a3f5f\"}},\"annotationdefaults\":{\"arrowcolor\":\"#2a3f5f\",\"arrowhead\":0,\"arrowwidth\":1},\"geo\":{\"bgcolor\":\"white\",\"landcolor\":\"#E5ECF6\",\"subunitcolor\":\"white\",\"showland\":true,\"showlakes\":true,\"lakecolor\":\"white\"},\"title\":{\"x\":0.05},\"mapbox\":{\"style\":\"light\"}}},\"title\":{\"text\":\"Depicts the onset of TB cases based on Location and Year\"},\"geo\":{\"projection\":{\"type\":\"equirectangular\"},\"showframe\":false,\"showcoastlines\":false}},                        {\"responsive\": true}                    ).then(function(){\n",
       "                            \n",
       "var gd = document.getElementById('c7db5ab4-23a7-4967-8dfe-fef17d5fe48e');\n",
       "var x = new MutationObserver(function (mutations, observer) {{\n",
       "        var display = window.getComputedStyle(gd).display;\n",
       "        if (!display || display === 'none') {{\n",
       "            console.log([gd, 'removed!']);\n",
       "            Plotly.purge(gd);\n",
       "            observer.disconnect();\n",
       "        }}\n",
       "}});\n",
       "\n",
       "// Listen for the removal of the full notebook cells\n",
       "var notebookContainer = gd.closest('#notebook-container');\n",
       "if (notebookContainer) {{\n",
       "    x.observe(notebookContainer, {childList: true});\n",
       "}}\n",
       "\n",
       "// Listen for the clearing of the current output cell\n",
       "var outputEl = gd.closest('.output');\n",
       "if (outputEl) {{\n",
       "    x.observe(outputEl, {childList: true});\n",
       "}}\n",
       "\n",
       "                        })                };                });            </script>        </div>"
      ]
     },
     "metadata": {},
     "output_type": "display_data"
    }
   ],
   "source": [
    "fig = go.Figure(data=go.Choropleth(\n",
    "    locations = pop85Growth[\"country\"],\n",
    "    z = pop85Growth[\"Cases\"],\n",
    "    text = pop85Growth[\"year\"],\n",
    "    locationmode='country names',\n",
    "    colorscale = 'sunset',\n",
    "    autocolorscale=False,\n",
    "    reversescale=True,\n",
    "    marker_line_color='darkgray',\n",
    "    marker_line_width=0.2,\n",
    "    colorbar_ticksuffix = 'K',\n",
    "    colorbar_title = 'Number of initial<br>TB Cases',\n",
    "))\n",
    "\n",
    "fig.update_layout(\n",
    "    title_text='Depicts the onset of TB cases based on Location and Year',\n",
    "    geo=dict(\n",
    "        showframe=False,\n",
    "        showcoastlines=False,\n",
    "        projection_type='equirectangular'\n",
    "        \n",
    "    ),\n",
    "\n",
    ")\n",
    "\n",
    "fig.show()\n",
    "#Referenced from https://plotly.com/python/choropleth-maps/"
   ]
  },
  {
   "cell_type": "code",
   "execution_count": null,
   "metadata": {},
   "outputs": [],
   "source": []
  }
 ],
 "metadata": {
  "kernelspec": {
   "display_name": "Python 3 (ipykernel)",
   "language": "python",
   "name": "python3"
  },
  "language_info": {
   "codemirror_mode": {
    "name": "ipython",
    "version": 3
   },
   "file_extension": ".py",
   "mimetype": "text/x-python",
   "name": "python",
   "nbconvert_exporter": "python",
   "pygments_lexer": "ipython3",
   "version": "3.9.13"
  },
  "toc": {
   "base_numbering": 1,
   "nav_menu": {},
   "number_sections": false,
   "sideBar": true,
   "skip_h1_title": false,
   "title_cell": "Table of Contents",
   "title_sidebar": "Contents",
   "toc_cell": false,
   "toc_position": {
    "height": "calc(100% - 180px)",
    "left": "10px",
    "top": "150px",
    "width": "165px"
   },
   "toc_section_display": true,
   "toc_window_display": true
  }
 },
 "nbformat": 4,
 "nbformat_minor": 4
}
