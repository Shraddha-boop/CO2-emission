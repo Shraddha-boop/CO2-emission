{
 "cells": [
  {
   "cell_type": "code",
   "execution_count": 1,
   "id": "f4df6fdc",
   "metadata": {},
   "outputs": [],
   "source": [
    "import pandas as pd\n",
    "import numpy as np\n",
    "import matplotlib.pyplot as plt\n",
    "from matplotlib import pyplot\n",
    "from matplotlib import pyplot as plt\n",
    "import seaborn as sns\n",
    "import streamlit as st\n",
    "from statsmodels.tsa.arima.model import ARIMA\n",
    "import warnings\n",
    "warnings.filterwarnings('ignore')\n",
    "from pandas.tseries.offsets import DateOffset"
   ]
  },
  {
   "cell_type": "code",
   "execution_count": 2,
   "id": "32829583",
   "metadata": {},
   "outputs": [],
   "source": [
    "fd=pd.read_excel(\"CO2 dataset.xlsx\")\n",
    "fd1=pd.read_excel(\"CO2 dataset.xlsx\",header=0,index_col=0,parse_dates=True)"
   ]
  },
  {
   "cell_type": "code",
   "execution_count": 3,
   "id": "bebca952",
   "metadata": {},
   "outputs": [],
   "source": [
    "final_arima=ARIMA(fd1['CO2'],order=(7,1,2))\n",
    "final_arima=final_arima.fit()"
   ]
  },
  {
   "cell_type": "code",
   "execution_count": 4,
   "id": "41e8ad1f",
   "metadata": {},
   "outputs": [
    {
     "name": "stderr",
     "output_type": "stream",
     "text": [
      "2022-11-27 20:49:09.831 \n",
      "  \u001b[33m\u001b[1mWarning:\u001b[0m to view this Streamlit app on a browser, run it with the following\n",
      "  command:\n",
      "\n",
      "    streamlit run C:\\Users\\Shraddha\\anaconda3\\lib\\site-packages\\ipykernel_launcher.py [ARGUMENTS]\n"
     ]
    },
    {
     "data": {
      "text/plain": [
       "<Figure size 720x360 with 0 Axes>"
      ]
     },
     "metadata": {},
     "output_type": "display_data"
    },
    {
     "data": {
      "image/png": "[encoded data removed]",
      "text/plain": [
       "<Figure size 720x288 with 1 Axes>"
      ]
     },
     "metadata": {
      "needs_background": "light"
     },
     "output_type": "display_data"
    }
   ],
   "source": [
    "st.title('Forecasting Emission')\n",
    "nav=st.sidebar.radio('Navigation',['Original','Prediction','Forecast'])\n",
    "if nav == 'Original':\n",
    "    st.subheader('Data')\n",
    "    fd\n",
    "    st.subheader('Scatter plot of the data')\n",
    "    st.set_option('deprecation.showPyplotGlobalUse',False)\n",
    "    plt.figure(figsize=(10,5))\n",
    "    plt.scatter(fd['Year'],fd['CO2'])\n",
    "    plt.ylim(0)\n",
    "    plt.xlabel('Years')\n",
    "    plt.ylabel('CO2 Emission')\n",
    "    plt.tight_layout()\n",
    "    st.pyplot()\n",
    "    \n",
    "    \n",
    "    st.subheader('Line plot of the Data')\n",
    "    st.line_chart(data=fd.CO2, width=150, height=300, use_container_width=True)\n",
    "    \n",
    "    st.subheader('Histogram of the Data')\n",
    "    fig=plt.figure(figsize=(10,4))\n",
    "    plt.hist(fd.CO2)\n",
    "    st.pyplot(fig)\n",
    "    \n",
    "if nav == 'Prediction':\n",
    "    predict = final_arima.fittedvalues\n",
    "    fd1['Predicted_CO2'] = predict\n",
    "    fd1\n",
    "    plt.plot(fd1.CO2, label='Original',color='black')\n",
    "    plt.plot(predict, label='Predicted',color='red')\n",
    "    plt.title('Prediction')\n",
    "    plt.legend(loc='upper left', fontsize=8)\n",
    "    st.pyplot()\n",
    "    \n",
    "if nav == 'Forecast':\n",
    "    year = st.slider('Select Year from 2015',1,51,step = 1)\n",
    "    \n",
    "    st.subheader('Forecasting the Data for next years')\n",
    "    \n",
    "    pred = final_arima.forecast(year)\n",
    "    \n",
    "    if st.button(\"Predict\"):\n",
    "        st.subheader(\" Predicted CO2 Emission from year 2015\")\n",
    "        pred\n",
    "        \n",
    "        plt.plot(fd1.CO2, label='Original',color='black')\n",
    "        plt.plot(pred, label='Forecasted',color='blue')\n",
    "        plt.title('Forecasted')\n",
    "        plt.legend(loc='upper left', fontsize=8)\n",
    "        st.pyplot()\n",
    "        \n",
    "        st.subheader('Histogram of the Data')\n",
    "        fig1=plt.figure(figsize=(10,4))\n",
    "        plt.hist(pred)\n",
    "        st.pyplot(fig1)"
   ]
  },
  {
   "cell_type": "code",
   "execution_count": 5,
   "id": "8026bc66",
   "metadata": {},
   "outputs": [],
   "source": [
    " #Local URL: http://localhost:8501\n",
    "  #Network URL: http://192.168.1.11:8501"
   ]
  },
  {
   "cell_type": "code",
   "execution_count": null,
   "id": "719e0de9",
   "metadata": {},
   "outputs": [],
   "source": []
  },
  {
   "cell_type": "code",
   "execution_count": null,
   "id": "8600b9e8",
   "metadata": {},
   "outputs": [],
   "source": []
  },
  {
   "cell_type": "code",
   "execution_count": null,
   "id": "86a56796",
   "metadata": {},
   "outputs": [],
   "source": []
  },
  {
   "cell_type": "code",
   "execution_count": null,
   "id": "95885d07",
   "metadata": {},
   "outputs": [],
   "source": []
  },
  {
   "cell_type": "code",
   "execution_count": null,
   "id": "f2c4046a",
   "metadata": {},
   "outputs": [],
   "source": []
  },
  {
   "cell_type": "code",
   "execution_count": null,
   "id": "e98522de",
   "metadata": {},
   "outputs": [],
   "source": []
  },
  {
   "cell_type": "code",
   "execution_count": null,
   "id": "30c89fe9",
   "metadata": {},
   "outputs": [],
   "source": []
  },
  {
   "cell_type": "code",
   "execution_count": null,
   "id": "8419004c",
   "metadata": {},
   "outputs": [],
   "source": []
  },
  {
   "cell_type": "code",
   "execution_count": null,
   "id": "b4d642e1",
   "metadata": {},
   "outputs": [],
   "source": []
  },
  {
   "cell_type": "code",
   "execution_count": null,
   "id": "f74b58dc",
   "metadata": {},
   "outputs": [],
   "source": []
  },
  {
   "cell_type": "code",
   "execution_count": null,
   "id": "4fa083b6",
   "metadata": {},
   "outputs": [],
   "source": []
  },
  {
   "cell_type": "code",
   "execution_count": null,
   "id": "a479b852",
   "metadata": {},
   "outputs": [],
   "source": []
  },
  {
   "cell_type": "code",
   "execution_count": null,
   "id": "06b8a772",
   "metadata": {},
   "outputs": [],
   "source": []
  },
  {
   "cell_type": "code",
   "execution_count": null,
   "id": "6291c729",
   "metadata": {},
   "outputs": [],
   "source": []
  },
  {
   "cell_type": "code",
   "execution_count": null,
   "id": "0bcb583d",
   "metadata": {},
   "outputs": [],
   "source": []
  },
  {
   "cell_type": "code",
   "execution_count": null,
   "id": "26caa43e",
   "metadata": {},
   "outputs": [],
   "source": []
  },
  {
   "cell_type": "code",
   "execution_count": null,
   "id": "c520b578",
   "metadata": {},
   "outputs": [],
   "source": []
  },
  {
   "cell_type": "code",
   "execution_count": null,
   "id": "b140be64",
   "metadata": {},
   "outputs": [],
   "source": []
  },
  {
   "cell_type": "code",
   "execution_count": null,
   "id": "4b8765e4",
   "metadata": {},
   "outputs": [],
   "source": []
  },
  {
   "cell_type": "code",
   "execution_count": null,
   "id": "b2b5a655",
   "metadata": {},
   "outputs": [],
   "source": []
  },
  {
   "cell_type": "code",
   "execution_count": null,
   "id": "88144fb0",
   "metadata": {},
   "outputs": [],
   "source": []
  }
 ],
 "metadata": {
  "kernelspec": {
   "display_name": "Python 3 (ipykernel)",
   "language": "python",
   "name": "python3"
  },
  "language_info": {
   "codemirror_mode": {
    "name": "ipython",
    "version": 3
   },
   "file_extension": ".py",
   "mimetype": "text/x-python",
   "name": "python",
   "nbconvert_exporter": "python",
   "pygments_lexer": "ipython3",
   "version": "3.9.7"
  }
 },
 "nbformat": 4,
 "nbformat_minor": 5
}
